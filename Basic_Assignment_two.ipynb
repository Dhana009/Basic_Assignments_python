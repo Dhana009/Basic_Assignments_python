{
 "cells": [
  {
   "cell_type": "markdown",
   "id": "4005e987",
   "metadata": {},
   "source": [
    "# Basic Assignment 2"
   ]
  },
  {
   "cell_type": "markdown",
   "id": "75a24ec3",
   "metadata": {},
   "source": [
    "### 1 . What are the two values of the Boolean data type? How do you write them?"
   ]
  },
  {
   "cell_type": "markdown",
   "id": "10690598",
   "metadata": {},
   "source": [
    " sol:-\n",
    "    1. True\n",
    "    2. False\n",
    "    where as True=1 , False=0"
   ]
  },
  {
   "cell_type": "code",
   "execution_count": 1,
   "id": "65d65d55",
   "metadata": {},
   "outputs": [
    {
     "name": "stdout",
     "output_type": "stream",
     "text": [
      "False\n"
     ]
    }
   ],
   "source": [
    "print(20>29)"
   ]
  },
  {
   "cell_type": "code",
   "execution_count": 2,
   "id": "3e2f87a6",
   "metadata": {},
   "outputs": [
    {
     "name": "stdout",
     "output_type": "stream",
     "text": [
      "True\n"
     ]
    }
   ],
   "source": [
    "print(30<66)"
   ]
  },
  {
   "cell_type": "markdown",
   "id": "11114bd3",
   "metadata": {},
   "source": [
    "### 2. What are the three different types of Boolean operators?"
   ]
  },
  {
   "cell_type": "markdown",
   "id": "8e381a06",
   "metadata": {},
   "source": [
    "sol :- and ; or ; not"
   ]
  },
  {
   "cell_type": "markdown",
   "id": "13057c97",
   "metadata": {},
   "source": [
    "### 3. Make a list of each Boolean operator&#39;s truth tables (i.e. every possible combination of Boolean values for the operator and what it evaluate)"
   ]
  },
  {
   "cell_type": "code",
   "execution_count": null,
   "id": "8e7a5275",
   "metadata": {},
   "outputs": [],
   "source": [
    "True == 1 and False == 0\n",
    "     x  y  x or y\n",
    "     0  0     0     \n",
    "     0  1     1\n",
    "     1  0     1\n",
    "     1  1     1\n",
    "     \n",
    "     x  y  x and y\n",
    "     0  0     0     \n",
    "     0  1     0\n",
    "     1  0     0\n",
    "     1  1     1"
   ]
  },
  {
   "cell_type": "markdown",
   "id": "ad81c13c",
   "metadata": {},
   "source": [
    "### 4. What are the values of the following expressions?"
   ]
  },
  {
   "cell_type": "code",
   "execution_count": null,
   "id": "b814cd2b",
   "metadata": {},
   "outputs": [],
   "source": [
    "    (5 > 4) and (3 == 5)--> False\n",
    "    not(5>4)--> False\n",
    "    (5>4)or(3==5)--> True\n",
    "    not ((5 > 4) or (3 == 5))--> False\n",
    "    (True and True) and (True == False)--> False\n",
    "    (not False) or (not True)--> True"
   ]
  },
  {
   "cell_type": "markdown",
   "id": "bcfe53c0",
   "metadata": {},
   "source": [
    "### 5. What are the six comparison operators?"
   ]
  },
  {
   "cell_type": "markdown",
   "id": "f5d86431",
   "metadata": {},
   "source": [
    " 1.!= not equal to\n",
    "    2.> greater than\n",
    "    3.< less than\n",
    "    4. <= less than equal to\n",
    "    5. >= greater than equal to\n",
    "    6. == equal to"
   ]
  },
  {
   "cell_type": "markdown",
   "id": "1acd88df",
   "metadata": {},
   "source": [
    "### 6. How do you tell the difference between the equal to and assignment operators?Describe a condition and when you would use one?"
   ]
  },
  {
   "cell_type": "markdown",
   "id": "c1839868",
   "metadata": {},
   "source": [
    "== is equal to   ;   = is assignment operator"
   ]
  },
  {
   "cell_type": "markdown",
   "id": "a07ac9be",
   "metadata": {},
   "source": [
    "### 7. Identify the three blocks in this code:"
   ]
  },
  {
   "cell_type": "code",
   "execution_count": 3,
   "id": "7968376c",
   "metadata": {},
   "outputs": [
    {
     "name": "stdout",
     "output_type": "stream",
     "text": [
      "spam\n"
     ]
    }
   ],
   "source": [
    "spam = 0\n",
    "if spam == 10:\n",
    "    print('eggs')   \n",
    "    if spam > 5:    \n",
    "        print('bacon')\n",
    "    else:\n",
    "        print('ham')\n",
    "    print('spam')\n",
    "print('spam')"
   ]
  },
  {
   "cell_type": "markdown",
   "id": "2c7625ae",
   "metadata": {},
   "source": [
    "### 8. Write code that prints Hello if 1 is stored in spam, prints Howdy if 2 is stored in spam, and prints greetings! if anything else is stored in spam."
   ]
  },
  {
   "cell_type": "code",
   "execution_count": 4,
   "id": "07db7ab9",
   "metadata": {},
   "outputs": [
    {
     "name": "stdout",
     "output_type": "stream",
     "text": [
      "1\n",
      "Hello\n"
     ]
    }
   ],
   "source": [
    "spam = int(input())\n",
    "\n",
    "if spam==1:\n",
    "    print(\"Hello\")\n",
    "elif spam==2:\n",
    "    print(\"Howdy\")\n",
    "else:\n",
    "    print(\"Greetings!\")"
   ]
  },
  {
   "cell_type": "markdown",
   "id": "5d2ce247",
   "metadata": {},
   "source": [
    "### 9. If your programme is stuck in an endless loop, what keys you’ll press?"
   ]
  },
  {
   "cell_type": "markdown",
   "id": "5a067712",
   "metadata": {},
   "source": [
    "1. If the problem is in jupyter we can stop kernal. \n",
    "2. If the problem is in command line prompt pressCtrl+C"
   ]
  },
  {
   "cell_type": "markdown",
   "id": "dce46fb2",
   "metadata": {},
   "source": [
    " ### 10. How can you tell the difference between break and continue?"
   ]
  },
  {
   "cell_type": "markdown",
   "id": "b78caa2b",
   "metadata": {},
   "source": [
    "Break and continue works in different manner, if the specified condition is satisfied then\n",
    "the break will break the program at that point, but in continue instead of breaking the\n",
    "program it will handle the control to the start of the loop."
   ]
  },
  {
   "cell_type": "code",
   "execution_count": 7,
   "id": "5bee952f",
   "metadata": {},
   "outputs": [
    {
     "name": "stdout",
     "output_type": "stream",
     "text": [
      "20\n",
      "30\n",
      "40\n",
      "50\n"
     ]
    }
   ],
   "source": [
    "#continue\n",
    "l = [10,20,30,40,50]\n",
    "for i in l:\n",
    "    if i==10:\n",
    "        continue\n",
    "    print(i)"
   ]
  },
  {
   "cell_type": "code",
   "execution_count": 10,
   "id": "d4b84b51",
   "metadata": {},
   "outputs": [
    {
     "name": "stdout",
     "output_type": "stream",
     "text": [
      "0\n",
      "1\n"
     ]
    }
   ],
   "source": [
    "#break:\n",
    "for i in range(4):\n",
    "    if i==2:\n",
    "        break\n",
    "    print(i)"
   ]
  },
  {
   "cell_type": "markdown",
   "id": "2c26d0a7",
   "metadata": {},
   "source": [
    "### 11. In a for loop, what is the difference between range(10), range(0, 10), and range(0, 10, 1)?"
   ]
  },
  {
   "cell_type": "markdown",
   "id": "86df4a53",
   "metadata": {},
   "source": [
    "in  a for loop the range(10) and range(0,10) and range(0,10,1) will generate \n",
    "the same output with a increment value of one."
   ]
  },
  {
   "cell_type": "markdown",
   "id": "2ac8ef0d",
   "metadata": {},
   "source": [
    "### 12. Write a short program that prints the numbers 1 to 10 using a for loop. Then write an equivalent program that prints the numbers 1 to 10 using a while loop."
   ]
  },
  {
   "cell_type": "code",
   "execution_count": 13,
   "id": "66adfeb4",
   "metadata": {},
   "outputs": [
    {
     "name": "stdout",
     "output_type": "stream",
     "text": [
      "1\n",
      "2\n",
      "3\n",
      "4\n",
      "5\n",
      "6\n",
      "7\n",
      "8\n",
      "9\n",
      "10\n"
     ]
    }
   ],
   "source": [
    "#for loop:\n",
    "for i in range(1,11):\n",
    "    print(i)"
   ]
  },
  {
   "cell_type": "code",
   "execution_count": 12,
   "id": "85c9d70c",
   "metadata": {},
   "outputs": [
    {
     "name": "stdout",
     "output_type": "stream",
     "text": [
      "1\n",
      "2\n",
      "3\n",
      "4\n",
      "5\n",
      "6\n",
      "7\n",
      "8\n",
      "9\n",
      "10\n"
     ]
    }
   ],
   "source": [
    "#while loop:\n",
    "i = 1\n",
    "while i<=10:\n",
    "    print(i)\n",
    "    i = i+1"
   ]
  },
  {
   "cell_type": "markdown",
   "id": "304da008",
   "metadata": {},
   "source": [
    "### 13. If you had a function named bacon() inside a module named spam, how would you call it after importing spam?"
   ]
  },
  {
   "cell_type": "markdown",
   "id": "2eacf942",
   "metadata": {},
   "source": [
    "spam.bacon()"
   ]
  },
  {
   "cell_type": "code",
   "execution_count": null,
   "id": "f7440fd4",
   "metadata": {},
   "outputs": [],
   "source": []
  }
 ],
 "metadata": {
  "kernelspec": {
   "display_name": "Python 3 (ipykernel)",
   "language": "python",
   "name": "python3"
  },
  "language_info": {
   "codemirror_mode": {
    "name": "ipython",
    "version": 3
   },
   "file_extension": ".py",
   "mimetype": "text/x-python",
   "name": "python",
   "nbconvert_exporter": "python",
   "pygments_lexer": "ipython3",
   "version": "3.9.12"
  }
 },
 "nbformat": 4,
 "nbformat_minor": 5
}
