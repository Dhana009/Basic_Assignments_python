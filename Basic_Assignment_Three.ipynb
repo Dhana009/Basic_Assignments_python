{
 "cells": [
  {
   "cell_type": "markdown",
   "id": "d98bdac3",
   "metadata": {},
   "source": [
    "# Basic assignment 3"
   ]
  },
  {
   "cell_type": "markdown",
   "id": "83752677",
   "metadata": {},
   "source": [
    "### 1. Why are functions advantageous to have in your programs?"
   ]
  },
  {
   "cell_type": "markdown",
   "id": "3e9d0967",
   "metadata": {},
   "source": [
    "no need to rewrite code again and again, reusability."
   ]
  },
  {
   "cell_type": "markdown",
   "id": "c74031d6",
   "metadata": {},
   "source": [
    "### 2. When does the code in a function run: when it's specified or when it's called?"
   ]
  },
  {
   "cell_type": "markdown",
   "id": "0fa0010c",
   "metadata": {},
   "source": [
    "When a function is called and starts executing the function"
   ]
  },
  {
   "cell_type": "markdown",
   "id": "d34845a8",
   "metadata": {},
   "source": [
    "### 3. What statement creates a function?\n"
   ]
  },
  {
   "cell_type": "markdown",
   "id": "248fe720",
   "metadata": {},
   "source": [
    "def function_name(arguments):\n",
    "    return arguments\n"
   ]
  },
  {
   "cell_type": "markdown",
   "id": "21abd65f",
   "metadata": {},
   "source": [
    "### 4. What is the difference between a function and a function call?\n"
   ]
  },
  {
   "cell_type": "markdown",
   "id": "4f7c5116",
   "metadata": {},
   "source": [
    " function is a pre-coded task which will only perform if it is called.\n",
    "this is where function call comes into picture to achieve the task."
   ]
  },
  {
   "cell_type": "markdown",
   "id": "0621949b",
   "metadata": {},
   "source": [
    "### 5. How many global scopes are there in a Python program? How many local scopes?"
   ]
  },
  {
   "cell_type": "markdown",
   "id": "a274eea9",
   "metadata": {},
   "source": [
    "there is only one global scope per python program.\n",
    "there can be as many local scopes as you inside a program because variable crearted inside a function can only be used in that space."
   ]
  },
  {
   "cell_type": "markdown",
   "id": "1834d361",
   "metadata": {},
   "source": [
    "### 6. What happens to variables in a local scope when the function call returns?"
   ]
  },
  {
   "cell_type": "markdown",
   "id": "d8d0a8ee",
   "metadata": {},
   "source": [
    "variable in a local space is confined to that space of function and can only be used in that function and therefore retains its value untill next time the function is called"
   ]
  },
  {
   "cell_type": "markdown",
   "id": "69724985",
   "metadata": {},
   "source": [
    "### 7. What is the concept of a return value? Is it possible to have a return value in an expression?"
   ]
  },
  {
   "cell_type": "markdown",
   "id": "eb14b8ae",
   "metadata": {},
   "source": [
    "return value is a special statement in a function which is used to sent output.\n",
    "\n",
    "yes it is possible to have return value in an expression."
   ]
  },
  {
   "cell_type": "markdown",
   "id": "53e1c623",
   "metadata": {},
   "source": [
    "### 8. If a function does not have a return statement, what is the return value of a call to that function?"
   ]
  },
  {
   "cell_type": "markdown",
   "id": "8ebb8b2b",
   "metadata": {},
   "source": [
    "it doesnt return any particular value"
   ]
  },
  {
   "cell_type": "markdown",
   "id": "07a7cc23",
   "metadata": {},
   "source": [
    "### 9. How do you make a function variable refer to the global variable?"
   ]
  },
  {
   "cell_type": "markdown",
   "id": "8378ddb6",
   "metadata": {},
   "source": [
    "Global variable is not connected to any particular function which means it is free to be called in any function and also be reused. Therefore to refer a function variable to global variable we use global keyword to declare which variable are global"
   ]
  },
  {
   "cell_type": "markdown",
   "id": "ce1a7dc7",
   "metadata": {},
   "source": [
    "### 10. What is the data type of None?\n"
   ]
  },
  {
   "cell_type": "code",
   "execution_count": 3,
   "id": "a88fdc0b",
   "metadata": {},
   "outputs": [
    {
     "data": {
      "text/plain": [
       "NoneType"
      ]
     },
     "execution_count": 3,
     "metadata": {},
     "output_type": "execute_result"
    }
   ],
   "source": [
    "type(None) # it is null neither Zero nor any other value"
   ]
  },
  {
   "cell_type": "markdown",
   "id": "7f36ff8a",
   "metadata": {},
   "source": [
    "### 11. What does the sentence import areallyourpetsnamederic do?\n",
    "it will import areallyourpetnamederic module."
   ]
  },
  {
   "cell_type": "markdown",
   "id": "1f2dcf8b",
   "metadata": {},
   "source": [
    "### 12. If you had a bacon() feature in a spam module, what would you call it after importing spam?\n",
    "spam.bacon()"
   ]
  },
  {
   "cell_type": "markdown",
   "id": "2c30e6b1",
   "metadata": {},
   "source": [
    "### 13. What can you do to save a programme from crashing if it encounters an error?\n",
    "I will use try and Except for preventing crash"
   ]
  },
  {
   "cell_type": "markdown",
   "id": "95d7a182",
   "metadata": {},
   "source": [
    "### 14. What is the purpose of the try clause? What is the purpose of the except clause?\n",
    "TRY CLAUSE: try clause is used when you think that program can crash so you try to run the program and it crashes it wont disturb other part of program\n",
    "\n",
    "EXCEPT CLAUSE: except clause is used when you are trying a certain part of program but it fails so it used as a response to exception."
   ]
  },
  {
   "cell_type": "code",
   "execution_count": null,
   "id": "64e15f87",
   "metadata": {},
   "outputs": [],
   "source": []
  },
  {
   "cell_type": "code",
   "execution_count": null,
   "id": "9733c666",
   "metadata": {},
   "outputs": [],
   "source": []
  }
 ],
 "metadata": {
  "kernelspec": {
   "display_name": "Python 3 (ipykernel)",
   "language": "python",
   "name": "python3"
  },
  "language_info": {
   "codemirror_mode": {
    "name": "ipython",
    "version": 3
   },
   "file_extension": ".py",
   "mimetype": "text/x-python",
   "name": "python",
   "nbconvert_exporter": "python",
   "pygments_lexer": "ipython3",
   "version": "3.9.12"
  }
 },
 "nbformat": 4,
 "nbformat_minor": 5
}
