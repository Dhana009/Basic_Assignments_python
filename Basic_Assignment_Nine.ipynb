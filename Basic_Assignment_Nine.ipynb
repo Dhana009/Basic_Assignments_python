{
 "cells": [
  {
   "cell_type": "markdown",
   "id": "e5f5a1d4",
   "metadata": {},
   "source": [
    "# Basic_Assignment_Nine"
   ]
  },
  {
   "cell_type": "markdown",
   "id": "314db4e3",
   "metadata": {},
   "source": [
    "## 1. To what does a relative path refer?\n",
    "relative path shows current working directory path\n",
    "\n",
    "for me it is: dhana\\\\Downloads"
   ]
  },
  {
   "cell_type": "code",
   "execution_count": 3,
   "id": "da948d0a",
   "metadata": {},
   "outputs": [
    {
     "data": {
      "text/plain": [
       "'C:\\\\Users\\\\dhana\\\\Downloads'"
      ]
     },
     "execution_count": 3,
     "metadata": {},
     "output_type": "execute_result"
    }
   ],
   "source": [
    "import os\n",
    "path = os.getcwd()\n",
    "os.path.realpath(path)"
   ]
  },
  {
   "cell_type": "markdown",
   "id": "4bf1b53b",
   "metadata": {},
   "source": [
    "## 2. What does an absolute path start with your operating system?\n",
    "absolute path = pwd + relative path\n",
    "\n",
    "absolute path always starts with rootdi directory\n"
   ]
  },
  {
   "cell_type": "code",
   "execution_count": 4,
   "id": "01acbda5",
   "metadata": {},
   "outputs": [
    {
     "data": {
      "text/plain": [
       "'C:\\\\Users\\\\dhana\\\\Downloads'"
      ]
     },
     "execution_count": 4,
     "metadata": {},
     "output_type": "execute_result"
    }
   ],
   "source": [
    "os.path.abspath(path)"
   ]
  },
  {
   "cell_type": "markdown",
   "id": "0aa72bd6",
   "metadata": {},
   "source": [
    "## 3. What do the functions os.getcwd() and os.chdir() do?\n",
    "os.chdir() performs change directory\n",
    "\n",
    "os.getcwd() gives current working directory"
   ]
  },
  {
   "cell_type": "markdown",
   "id": "adfb675b",
   "metadata": {},
   "source": [
    "## 4. What are the . and .. folders?\n",
    "these are not real folder but are special names for path\n",
    "\n",
    "    (.) = this directory\n",
    "    (..)= parent directory"
   ]
  },
  {
   "cell_type": "markdown",
   "id": "96c85cb4",
   "metadata": {},
   "source": [
    "## 5. In C:\\bacon\\eggs\\spam.txt, which part is the dir name, and which part is the base name?\n",
    "\n",
    "C:\\bacon\\eggs --> dir name\n",
    "\n",
    "spam.txt --> base name"
   ]
  },
  {
   "cell_type": "markdown",
   "id": "947645bd",
   "metadata": {},
   "source": [
    "## 6. What are the three “mode” arguments that can be passed to the open() function?\n",
    "Three mode arguments are:\n",
    "\n",
    "    1. 'r' --> open for reading in text mode.\n",
    "    2. 'w' --> open for writing.\n",
    "    3. 'a' --> open for appending.\n"
   ]
  },
  {
   "cell_type": "markdown",
   "id": "51de69f6",
   "metadata": {},
   "source": [
    "## 7. What happens if an existing file is opened in write mode?\n",
    "when an existing file is opened in write mode previous content is erased and file is treated as \n",
    "new empty file.\n"
   ]
  },
  {
   "cell_type": "markdown",
   "id": "ddec520a",
   "metadata": {},
   "source": [
    "## 8. How do you tell the difference between read() and readlines()?\n",
    "read()      --> it iterates over each character.\n",
    "\n",
    "readlines() --> read only single line of the file.\n"
   ]
  },
  {
   "cell_type": "markdown",
   "id": "31d22fe1",
   "metadata": {},
   "source": [
    "## 9. What data structure does a shelf value resemble?\n",
    " dictionary."
   ]
  },
  {
   "cell_type": "code",
   "execution_count": null,
   "id": "fbedd831",
   "metadata": {},
   "outputs": [],
   "source": []
  }
 ],
 "metadata": {
  "kernelspec": {
   "display_name": "Python 3 (ipykernel)",
   "language": "python",
   "name": "python3"
  },
  "language_info": {
   "codemirror_mode": {
    "name": "ipython",
    "version": 3
   },
   "file_extension": ".py",
   "mimetype": "text/x-python",
   "name": "python",
   "nbconvert_exporter": "python",
   "pygments_lexer": "ipython3",
   "version": "3.9.12"
  }
 },
 "nbformat": 4,
 "nbformat_minor": 5
}
