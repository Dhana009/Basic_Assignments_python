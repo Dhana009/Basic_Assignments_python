{
 "cells": [
  {
   "cell_type": "markdown",
   "id": "289edf9c",
   "metadata": {},
   "source": [
    "# Basic_Assignment_12"
   ]
  },
  {
   "cell_type": "markdown",
   "id": "f477a30b",
   "metadata": {},
   "source": [
    "### 1. In what modes should the PdfFileReader() and PdfFileWriter() File objects will be opened?\n",
    "\n",
    "import PyPDF2"
   ]
  },
  {
   "cell_type": "markdown",
   "id": "7fb8b995",
   "metadata": {},
   "source": [
    "PdfFileReader() -- it is used in 'rb' mode i.e. read binary\n",
    "\n",
    "PdfFileWriter() -- it is used in 'wb' mode i.e. write binary"
   ]
  },
  {
   "cell_type": "markdown",
   "id": "d10bbaf8",
   "metadata": {},
   "source": [
    "###  2. From a PdfFileReader object, how do you get a Page object for page 5?\n",
    "use getpage(5) method.\n"
   ]
  },
  {
   "cell_type": "markdown",
   "id": "202ec644",
   "metadata": {},
   "source": [
    "### 3. What PdfFileReader variable stores the number of pages in the PDF document?\n",
    "numPages stores the total number of pages in a pdf"
   ]
  },
  {
   "cell_type": "markdown",
   "id": "c7e1fa0e",
   "metadata": {},
   "source": [
    "### 4. If a PdfFileReader object’s PDF is encrypted with the password swordfish, what must you do before you can obtain Page objects from it?"
   ]
  },
  {
   "cell_type": "markdown",
   "id": "0382a66f",
   "metadata": {},
   "source": [
    "step 1 - load pdf [ PyPDF2.PdfFileReader(open('encrypted.pdf', 'rb')) ]\n",
    "\n",
    "step 2 - check weather it is encrypted [ pdf.isEncrypted ]\n",
    "\n",
    "step 3 - if encrypted use [ pdf.decrypt('swordfish') ]"
   ]
  },
  {
   "cell_type": "markdown",
   "id": "674798a1",
   "metadata": {},
   "source": [
    "### 5. What methods do you use to rotate a page?\n",
    "For anticlockwise: rotateCounterClockwise() \n",
    "\n",
    "for clockwise    : rotateClockwise()"
   ]
  },
  {
   "cell_type": "markdown",
   "id": "e6f7e74f",
   "metadata": {},
   "source": [
    "### 6. What is the difference between a Run object and a Paragraph object?\n",
    "Word document contain formatted text wrapped within three object levels:\n",
    "    lowest level: run objects.\n",
    "    middle level: paragraph objects.\n",
    "    highest level: document object.\n",
    "\n",
    "Run Object is used for inline content, text, pictures and other items within a paragraph"
   ]
  },
  {
   "cell_type": "markdown",
   "id": "15772c45",
   "metadata": {},
   "source": [
    "### 7. How do you obtain a list of Paragraph objects for a Document object that’s stored in a variable named doc?"
   ]
  },
  {
   "cell_type": "code",
   "execution_count": 1,
   "id": "05ba1898",
   "metadata": {},
   "outputs": [
    {
     "name": "stdout",
     "output_type": "stream",
     "text": [
      "Collecting python-docx\n",
      "  Downloading python-docx-0.8.11.tar.gz (5.6 MB)\n",
      "Requirement already satisfied: lxml>=2.3.2 in c:\\users\\dhana\\anaconda3\\lib\\site-packages (from python-docx) (4.8.0)\n",
      "Building wheels for collected packages: python-docx\n",
      "  Building wheel for python-docx (setup.py): started\n",
      "  Building wheel for python-docx (setup.py): finished with status 'done'\n",
      "  Created wheel for python-docx: filename=python_docx-0.8.11-py3-none-any.whl size=184507 sha256=70feccf617ba96426b7e03e1c818a8f0732e7504eb866615d4a55b6c8e112afa\n",
      "  Stored in directory: c:\\users\\dhana\\appdata\\local\\pip\\cache\\wheels\\83\\8b\\7c\\09ae60c42c7ba4ed2dddaf2b8b9186cb105255856d6ed3dba5\n",
      "Successfully built python-docx\n",
      "Installing collected packages: python-docx\n",
      "Successfully installed python-docx-0.8.11\n",
      "Note: you may need to restart the kernel to use updated packages.\n"
     ]
    }
   ],
   "source": [
    "pip install python-docx"
   ]
  },
  {
   "cell_type": "code",
   "execution_count": 2,
   "id": "ff62e670",
   "metadata": {},
   "outputs": [],
   "source": [
    "import docx"
   ]
  },
  {
   "cell_type": "code",
   "execution_count": 3,
   "id": "739356c7",
   "metadata": {},
   "outputs": [
    {
     "ename": "PackageNotFoundError",
     "evalue": "Package not found at 'trial.docx'",
     "output_type": "error",
     "traceback": [
      "\u001b[1;31m---------------------------------------------------------------------------\u001b[0m",
      "\u001b[1;31mPackageNotFoundError\u001b[0m                      Traceback (most recent call last)",
      "Input \u001b[1;32mIn [3]\u001b[0m, in \u001b[0;36m<cell line: 1>\u001b[1;34m()\u001b[0m\n\u001b[1;32m----> 1\u001b[0m d \u001b[38;5;241m=\u001b[39m \u001b[43mdocx\u001b[49m\u001b[38;5;241;43m.\u001b[39;49m\u001b[43mDocument\u001b[49m\u001b[43m(\u001b[49m\u001b[38;5;124;43m'\u001b[39;49m\u001b[38;5;124;43mtrial.docx\u001b[39;49m\u001b[38;5;124;43m'\u001b[39;49m\u001b[43m)\u001b[49m\n\u001b[0;32m      2\u001b[0m \u001b[38;5;28mlen\u001b[39m(d\u001b[38;5;241m.\u001b[39mparagraphs)\n",
      "File \u001b[1;32m~\\anaconda3\\lib\\site-packages\\docx\\api.py:25\u001b[0m, in \u001b[0;36mDocument\u001b[1;34m(docx)\u001b[0m\n\u001b[0;32m     18\u001b[0m \u001b[38;5;124;03m\"\"\"\u001b[39;00m\n\u001b[0;32m     19\u001b[0m \u001b[38;5;124;03mReturn a |Document| object loaded from *docx*, where *docx* can be\u001b[39;00m\n\u001b[0;32m     20\u001b[0m \u001b[38;5;124;03meither a path to a ``.docx`` file (a string) or a file-like object. If\u001b[39;00m\n\u001b[0;32m     21\u001b[0m \u001b[38;5;124;03m*docx* is missing or ``None``, the built-in default document \"template\"\u001b[39;00m\n\u001b[0;32m     22\u001b[0m \u001b[38;5;124;03mis loaded.\u001b[39;00m\n\u001b[0;32m     23\u001b[0m \u001b[38;5;124;03m\"\"\"\u001b[39;00m\n\u001b[0;32m     24\u001b[0m docx \u001b[38;5;241m=\u001b[39m _default_docx_path() \u001b[38;5;28;01mif\u001b[39;00m docx \u001b[38;5;129;01mis\u001b[39;00m \u001b[38;5;28;01mNone\u001b[39;00m \u001b[38;5;28;01melse\u001b[39;00m docx\n\u001b[1;32m---> 25\u001b[0m document_part \u001b[38;5;241m=\u001b[39m \u001b[43mPackage\u001b[49m\u001b[38;5;241;43m.\u001b[39;49m\u001b[43mopen\u001b[49m\u001b[43m(\u001b[49m\u001b[43mdocx\u001b[49m\u001b[43m)\u001b[49m\u001b[38;5;241m.\u001b[39mmain_document_part\n\u001b[0;32m     26\u001b[0m \u001b[38;5;28;01mif\u001b[39;00m document_part\u001b[38;5;241m.\u001b[39mcontent_type \u001b[38;5;241m!=\u001b[39m CT\u001b[38;5;241m.\u001b[39mWML_DOCUMENT_MAIN:\n\u001b[0;32m     27\u001b[0m     tmpl \u001b[38;5;241m=\u001b[39m \u001b[38;5;124m\"\u001b[39m\u001b[38;5;124mfile \u001b[39m\u001b[38;5;124m'\u001b[39m\u001b[38;5;132;01m%s\u001b[39;00m\u001b[38;5;124m'\u001b[39m\u001b[38;5;124m is not a Word file, content type is \u001b[39m\u001b[38;5;124m'\u001b[39m\u001b[38;5;132;01m%s\u001b[39;00m\u001b[38;5;124m'\u001b[39m\u001b[38;5;124m\"\u001b[39m\n",
      "File \u001b[1;32m~\\anaconda3\\lib\\site-packages\\docx\\opc\\package.py:128\u001b[0m, in \u001b[0;36mOpcPackage.open\u001b[1;34m(cls, pkg_file)\u001b[0m\n\u001b[0;32m    122\u001b[0m \u001b[38;5;129m@classmethod\u001b[39m\n\u001b[0;32m    123\u001b[0m \u001b[38;5;28;01mdef\u001b[39;00m \u001b[38;5;21mopen\u001b[39m(\u001b[38;5;28mcls\u001b[39m, pkg_file):\n\u001b[0;32m    124\u001b[0m     \u001b[38;5;124;03m\"\"\"\u001b[39;00m\n\u001b[0;32m    125\u001b[0m \u001b[38;5;124;03m    Return an |OpcPackage| instance loaded with the contents of\u001b[39;00m\n\u001b[0;32m    126\u001b[0m \u001b[38;5;124;03m    *pkg_file*.\u001b[39;00m\n\u001b[0;32m    127\u001b[0m \u001b[38;5;124;03m    \"\"\"\u001b[39;00m\n\u001b[1;32m--> 128\u001b[0m     pkg_reader \u001b[38;5;241m=\u001b[39m \u001b[43mPackageReader\u001b[49m\u001b[38;5;241;43m.\u001b[39;49m\u001b[43mfrom_file\u001b[49m\u001b[43m(\u001b[49m\u001b[43mpkg_file\u001b[49m\u001b[43m)\u001b[49m\n\u001b[0;32m    129\u001b[0m     package \u001b[38;5;241m=\u001b[39m \u001b[38;5;28mcls\u001b[39m()\n\u001b[0;32m    130\u001b[0m     Unmarshaller\u001b[38;5;241m.\u001b[39munmarshal(pkg_reader, package, PartFactory)\n",
      "File \u001b[1;32m~\\anaconda3\\lib\\site-packages\\docx\\opc\\pkgreader.py:32\u001b[0m, in \u001b[0;36mPackageReader.from_file\u001b[1;34m(pkg_file)\u001b[0m\n\u001b[0;32m     27\u001b[0m \u001b[38;5;129m@staticmethod\u001b[39m\n\u001b[0;32m     28\u001b[0m \u001b[38;5;28;01mdef\u001b[39;00m \u001b[38;5;21mfrom_file\u001b[39m(pkg_file):\n\u001b[0;32m     29\u001b[0m     \u001b[38;5;124;03m\"\"\"\u001b[39;00m\n\u001b[0;32m     30\u001b[0m \u001b[38;5;124;03m    Return a |PackageReader| instance loaded with contents of *pkg_file*.\u001b[39;00m\n\u001b[0;32m     31\u001b[0m \u001b[38;5;124;03m    \"\"\"\u001b[39;00m\n\u001b[1;32m---> 32\u001b[0m     phys_reader \u001b[38;5;241m=\u001b[39m \u001b[43mPhysPkgReader\u001b[49m\u001b[43m(\u001b[49m\u001b[43mpkg_file\u001b[49m\u001b[43m)\u001b[49m\n\u001b[0;32m     33\u001b[0m     content_types \u001b[38;5;241m=\u001b[39m _ContentTypeMap\u001b[38;5;241m.\u001b[39mfrom_xml(phys_reader\u001b[38;5;241m.\u001b[39mcontent_types_xml)\n\u001b[0;32m     34\u001b[0m     pkg_srels \u001b[38;5;241m=\u001b[39m PackageReader\u001b[38;5;241m.\u001b[39m_srels_for(phys_reader, PACKAGE_URI)\n",
      "File \u001b[1;32m~\\anaconda3\\lib\\site-packages\\docx\\opc\\phys_pkg.py:30\u001b[0m, in \u001b[0;36mPhysPkgReader.__new__\u001b[1;34m(cls, pkg_file)\u001b[0m\n\u001b[0;32m     28\u001b[0m         reader_cls \u001b[38;5;241m=\u001b[39m _ZipPkgReader\n\u001b[0;32m     29\u001b[0m     \u001b[38;5;28;01melse\u001b[39;00m:\n\u001b[1;32m---> 30\u001b[0m         \u001b[38;5;28;01mraise\u001b[39;00m PackageNotFoundError(\n\u001b[0;32m     31\u001b[0m             \u001b[38;5;124m\"\u001b[39m\u001b[38;5;124mPackage not found at \u001b[39m\u001b[38;5;124m'\u001b[39m\u001b[38;5;132;01m%s\u001b[39;00m\u001b[38;5;124m'\u001b[39m\u001b[38;5;124m\"\u001b[39m \u001b[38;5;241m%\u001b[39m pkg_file\n\u001b[0;32m     32\u001b[0m         )\n\u001b[0;32m     33\u001b[0m \u001b[38;5;28;01melse\u001b[39;00m:  \u001b[38;5;66;03m# assume it's a stream and pass it to Zip reader to sort out\u001b[39;00m\n\u001b[0;32m     34\u001b[0m     reader_cls \u001b[38;5;241m=\u001b[39m _ZipPkgReader\n",
      "\u001b[1;31mPackageNotFoundError\u001b[0m: Package not found at 'trial.docx'"
     ]
    }
   ],
   "source": [
    "d = docx.Document('trial.docx')\n",
    "len(d.paragraphs)"
   ]
  },
  {
   "cell_type": "markdown",
   "id": "0a27ab3a",
   "metadata": {},
   "source": [
    "### 8. What type of object has bold, underline, italic, strike, and outline variables?\n",
    "Run object\n"
   ]
  },
  {
   "cell_type": "markdown",
   "id": "c6a836e4",
   "metadata": {},
   "source": [
    "### 9. What is the difference between False, True, and None for the bold variable?\n",
    "\n",
    "False = off\n",
    "\n",
    "True = on\n",
    "\n",
    "none = not available"
   ]
  },
  {
   "cell_type": "markdown",
   "id": "20ac9df8",
   "metadata": {},
   "source": [
    "### 10. How do you create a Document object for a new Word document?\n",
    "doc = docx.Document()\n",
    "\n",
    "doc.add_paragraph('world')\n",
    "\n",
    "doc.save('hello.docx')\n"
   ]
  },
  {
   "cell_type": "markdown",
   "id": "763c0e9d",
   "metadata": {},
   "source": [
    "### 11. How do you add a paragraph with the text 'Hello, there!' to a Document object stored in a variable named doc?\n",
    "doc = docx.Document()\n",
    "\n",
    "doc.add_paragraph('Hello,there!')\n",
    "\n",
    "doc.save('hellothere.docx')\n"
   ]
  },
  {
   "cell_type": "markdown",
   "id": "310f10d4",
   "metadata": {},
   "source": [
    "### 12. What integers represent the levels of headings available in Word documents?\n",
    "integers 1 to 4 are for various heading levels where 1 is main heading and 4 the lowest subheading."
   ]
  },
  {
   "cell_type": "code",
   "execution_count": null,
   "id": "86a5ebc6",
   "metadata": {},
   "outputs": [],
   "source": []
  },
  {
   "cell_type": "code",
   "execution_count": null,
   "id": "fdb70bc4",
   "metadata": {},
   "outputs": [],
   "source": []
  }
 ],
 "metadata": {
  "kernelspec": {
   "display_name": "Python 3 (ipykernel)",
   "language": "python",
   "name": "python3"
  },
  "language_info": {
   "codemirror_mode": {
    "name": "ipython",
    "version": 3
   },
   "file_extension": ".py",
   "mimetype": "text/x-python",
   "name": "python",
   "nbconvert_exporter": "python",
   "pygments_lexer": "ipython3",
   "version": "3.9.12"
  }
 },
 "nbformat": 4,
 "nbformat_minor": 5
}
