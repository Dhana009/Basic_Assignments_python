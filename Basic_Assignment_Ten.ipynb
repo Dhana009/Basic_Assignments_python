{
 "cells": [
  {
   "cell_type": "markdown",
   "id": "3a9ed590",
   "metadata": {},
   "source": [
    "# Basic_Assignment_Ten"
   ]
  },
  {
   "cell_type": "markdown",
   "id": "a622d9a2",
   "metadata": {},
   "source": [
    "## 1. How do you distinguish between shutil.copy() and shutil.copytree()?\n",
    " shutil.copytree() will copy entire folder like branchers of trees\n",
    " \n",
    " whereas shutil.copy() will copy only single folder\n"
   ]
  },
  {
   "cell_type": "markdown",
   "id": "f3c871ce",
   "metadata": {},
   "source": [
    "## 2. What function is used to rename files??\n",
    "\n",
    "First import os module then use os.rename() to rename a file."
   ]
  },
  {
   "cell_type": "markdown",
   "id": "14def021",
   "metadata": {},
   "source": [
    "## 3. What is the difference between the delete functions in the send2trash and shutil modules?\n",
    "\n",
    "send2trash sends file to recycle bin \n",
    "\n",
    "\n",
    "shutil module deletes file permanantly."
   ]
  },
  {
   "cell_type": "markdown",
   "id": "ff7b4a28",
   "metadata": {},
   "source": [
    "## 4.ZipFile objects have a close() method just like File objects’ close() method.what ZipFile method is equivalent to File objects’ open() method?\n",
    "to open or write to a zipfile we use 'w' as second argument similar to file objects open()"
   ]
  },
  {
   "cell_type": "code",
   "execution_count": 3,
   "id": "5e1d01e8",
   "metadata": {},
   "outputs": [
    {
     "data": {
      "text/plain": [
       "<zipfile.ZipFile [closed]>"
      ]
     },
     "execution_count": 3,
     "metadata": {},
     "output_type": "execute_result"
    }
   ],
   "source": [
    "import zipfile as zf\n",
    "a = zf.ZipFile(\"abc.zip\",'w')\n",
    "a.close()\n",
    "a"
   ]
  },
  {
   "cell_type": "markdown",
   "id": "ff3bb346",
   "metadata": {},
   "source": [
    "## 5. Create a programme that searches a folder tree for files with a certain file extension (such as .pdf or .jpg). Copy these files from whatever location they are in to a new folder.\n",
    "\n",
    "import os\n",
    "\n",
    "import shutil"
   ]
  },
  {
   "cell_type": "code",
   "execution_count": 9,
   "id": "3788f528",
   "metadata": {},
   "outputs": [
    {
     "name": "stdout",
     "output_type": "stream",
     "text": [
      "searching --> C:\\Users\\dhana\\Downloads for ['.pdf', '.jpg'] file\n",
      "Coping C:\\Users\\dhana\\Downloads\\10WaysToEaseStress-1166219231-770x533-1.jpg to C:\\Users\\dhana\\Downloads\\destination\n",
      "Coping C:\\Users\\dhana\\Downloads\\abundance-dollar-8851737.jpg to C:\\Users\\dhana\\Downloads\\destination\n",
      "Coping C:\\Users\\dhana\\Downloads\\cret.jpg to C:\\Users\\dhana\\Downloads\\destination\n",
      "Coping C:\\Users\\dhana\\Downloads\\Diwakar-Jhurani.jpg to C:\\Users\\dhana\\Downloads\\destination\n",
      "Coping C:\\Users\\dhana\\Downloads\\helTH.jpg to C:\\Users\\dhana\\Downloads\\destination\n",
      "Coping C:\\Users\\dhana\\Downloads\\image.jpg to C:\\Users\\dhana\\Downloads\\destination\n",
      "Coping C:\\Users\\dhana\\Downloads\\miraculous-powers.jpg to C:\\Users\\dhana\\Downloads\\destination\n",
      "Coping C:\\Users\\dhana\\Downloads\\Documents\\(Texts in Computer Science) Ben Stephenson - The Python Workbook_ A Brief Introduction with Exercises and Solutions-Springer (2019-08).pdf to C:\\Users\\dhana\\Downloads\\destination\n",
      "Coping C:\\Users\\dhana\\Downloads\\Documents\\(Texts in Computer Science) Ben Stephenson - The Python Workbook_ A Brief Introduction with Exercises and Solutions-Springer International Publishing (2019).pdf to C:\\Users\\dhana\\Downloads\\destination\n",
      "Coping C:\\Users\\dhana\\Downloads\\Documents\\Ben Stephenson - The Python Workbook_ A Brief Introduction with Exercises and Solutions-Springer (2014).pdf to C:\\Users\\dhana\\Downloads\\destination\n",
      "Coping C:\\Users\\dhana\\Downloads\\Documents\\Ben Stephenson - The Python Workbook_ A Brief Introduction with Exercises and Solutions-Springer (2014)_2.pdf to C:\\Users\\dhana\\Downloads\\destination\n",
      "Coping C:\\Users\\dhana\\Downloads\\Documents\\ChS.pdf to C:\\Users\\dhana\\Downloads\\destination\n",
      "Coping C:\\Users\\dhana\\Downloads\\Documents\\dictionary.pdf to C:\\Users\\dhana\\Downloads\\destination\n",
      "Coping C:\\Users\\dhana\\Downloads\\Documents\\Fluid_Mechanics.pdf to C:\\Users\\dhana\\Downloads\\destination\n",
      "Coping C:\\Users\\dhana\\Downloads\\Documents\\Green White Simple Organic Page Border.pdf to C:\\Users\\dhana\\Downloads\\destination\n",
      "Coping C:\\Users\\dhana\\Downloads\\Documents\\make-it-stick.pdf to C:\\Users\\dhana\\Downloads\\destination\n",
      "Coping C:\\Users\\dhana\\Downloads\\Documents\\pdfcoffee.com_gate-aerospace--pdf-free.pdf to C:\\Users\\dhana\\Downloads\\destination\n",
      "Coping C:\\Users\\dhana\\Downloads\\Documents\\superhuman-by-habit.pdf to C:\\Users\\dhana\\Downloads\\destination\n",
      "Coping C:\\Users\\dhana\\Downloads\\Documents\\Thermodynamics.pdf to C:\\Users\\dhana\\Downloads\\destination\n",
      "Coping C:\\Users\\dhana\\Downloads\\Documents\\Tuples 1.pdf to C:\\Users\\dhana\\Downloads\\destination\n",
      "Coping C:\\Users\\dhana\\Downloads\\Documents\\Tuples 1_2.pdf to C:\\Users\\dhana\\Downloads\\destination\n",
      "Coping C:\\Users\\dhana\\Downloads\\Documents\\Tuples 1_3.pdf to C:\\Users\\dhana\\Downloads\\destination\n",
      "Coping C:\\Users\\dhana\\Downloads\\Documents\\Tuples 1_4.pdf to C:\\Users\\dhana\\Downloads\\destination\n",
      "Coping C:\\Users\\dhana\\Downloads\\Documents\\tuples document final.pdf to C:\\Users\\dhana\\Downloads\\destination\n",
      "Coping C:\\Users\\dhana\\Downloads\\Documents\\Untitled document.pdf to C:\\Users\\dhana\\Downloads\\destination\n",
      "Coping C:\\Users\\dhana\\Downloads\\Video\\game\\Screenshot_2022-07-19-11-57-21-889_com.app.flutterbecricapp.jpg to C:\\Users\\dhana\\Downloads\\destination\n",
      "Coping C:\\Users\\dhana\\Downloads\\Video\\game\\Screenshot_2022-07-19-12-24-40-452_com.app.flutterbecricapp.jpg to C:\\Users\\dhana\\Downloads\\destination\n",
      "Coping C:\\Users\\dhana\\Downloads\\Video\\game\\Screenshot_2022-07-19-12-56-09-104_com.thunkable.android.twmrsmy125.CLOCK.jpg to C:\\Users\\dhana\\Downloads\\destination\n",
      "Coping C:\\Users\\dhana\\Downloads\\Video\\game\\Screenshot_2022-07-19-13-28-21-821_com.thunkable.android.twmrsmy125.CLOCK.jpg to C:\\Users\\dhana\\Downloads\\destination\n",
      "Coping C:\\Users\\dhana\\Downloads\\Video\\game\\Screenshot_2022-07-19-13-55-55-021_com.app.flutterbecricapp.jpg to C:\\Users\\dhana\\Downloads\\destination\n",
      "Coping C:\\Users\\dhana\\Downloads\\Video\\game\\Screenshot_2022-07-19-14-05-13-361_com.thunkable.android.twmrsmy125.CLOCK.jpg to C:\\Users\\dhana\\Downloads\\destination\n",
      "Coping C:\\Users\\dhana\\Downloads\\Video\\game\\Screenshot_2022-07-19-14-34-17-106_com.thunkable.android.twmrsmy125.CLOCK.jpg to C:\\Users\\dhana\\Downloads\\destination\n",
      "Coping C:\\Users\\dhana\\Downloads\\Video\\game\\Screenshot_2022-07-19-14-36-37-127_com.thunkable.android.twmrsmy125.CLOCK.jpg to C:\\Users\\dhana\\Downloads\\destination\n",
      "Coping C:\\Users\\dhana\\Downloads\\Video\\game\\Screenshot_2022-07-19-14-55-40-971_com.thunkable.android.twmrsmy125.CLOCK.jpg to C:\\Users\\dhana\\Downloads\\destination\n",
      "Coping C:\\Users\\dhana\\Downloads\\Video\\game\\Screenshot_2022-07-19-14-57-33-144_com.thunkable.android.twmrsmy125.CLOCK.jpg to C:\\Users\\dhana\\Downloads\\destination\n",
      "Coping C:\\Users\\dhana\\Downloads\\Video\\game\\Screenshot_2022-07-19-15-02-12-858_com.thunkable.android.twmrsmy125.CLOCK.jpg to C:\\Users\\dhana\\Downloads\\destination\n",
      "Coping C:\\Users\\dhana\\Downloads\\Video\\game\\Screenshot_2022-07-19-15-42-48-032_com.app.flutterbecricapp.jpg to C:\\Users\\dhana\\Downloads\\destination\n",
      "Coping C:\\Users\\dhana\\Downloads\\Video\\game\\Screenshot_2022-07-19-15-46-24-420_com.thunkable.android.twmrsmy125.CLOCK.jpg to C:\\Users\\dhana\\Downloads\\destination\n",
      "Coping C:\\Users\\dhana\\Downloads\\Video\\game\\Screenshot_2022-07-19-15-59-06-804_com.app.flutterbecricapp.jpg to C:\\Users\\dhana\\Downloads\\destination\n",
      "Coping C:\\Users\\dhana\\Downloads\\Video\\game\\Screenshot_2022-07-19-16-26-53-582_gbsoft.datescalculator.jpg to C:\\Users\\dhana\\Downloads\\destination\n",
      "Coping C:\\Users\\dhana\\Downloads\\Video\\game\\Screenshot_2022-07-19-16-52-37-929_gbsoft.datescalculator.jpg to C:\\Users\\dhana\\Downloads\\destination\n",
      "Coping C:\\Users\\dhana\\Downloads\\Video\\game\\Screenshot_2022-07-19-17-24-13-546_com.app.flutterbecricapp.jpg to C:\\Users\\dhana\\Downloads\\destination\n",
      "Coping C:\\Users\\dhana\\Downloads\\Video\\game\\Screenshot_2022-07-19-17-38-10-028_com.app.flutterbecricapp.jpg to C:\\Users\\dhana\\Downloads\\destination\n",
      "Coping C:\\Users\\dhana\\Downloads\\Video\\game\\Screenshot_2022-07-19-18-02-50-430_com.app.flutterbecricapp.jpg to C:\\Users\\dhana\\Downloads\\destination\n",
      "Coping C:\\Users\\dhana\\Downloads\\Video\\game\\Screenshot_2022-07-19-18-28-21-617_com.app.flutterbecricapp.jpg to C:\\Users\\dhana\\Downloads\\destination\n",
      "Coping C:\\Users\\dhana\\Downloads\\Video\\game\\Screenshot_2022-07-19-18-54-28-168_com.app.flutterbecricapp.jpg to C:\\Users\\dhana\\Downloads\\destination\n",
      "Coping C:\\Users\\dhana\\Downloads\\Video\\game\\Screenshot_2022-07-19-19-21-37-999_com.app.flutterbecricapp.jpg to C:\\Users\\dhana\\Downloads\\destination\n",
      "Coping C:\\Users\\dhana\\Downloads\\Video\\game\\Screenshot_2022-07-19-19-48-40-932_com.app.flutterbecricapp.jpg to C:\\Users\\dhana\\Downloads\\destination\n",
      "Coping C:\\Users\\dhana\\Downloads\\Video\\game\\Screenshot_2022-07-19-20-15-45-074_com.app.flutterbecricapp.jpg to C:\\Users\\dhana\\Downloads\\destination\n",
      "Coping C:\\Users\\dhana\\Downloads\\Video\\game\\Screenshot_2022-07-19-20-42-33-158_com.app.flutterbecricapp.jpg to C:\\Users\\dhana\\Downloads\\destination\n",
      "Coping C:\\Users\\dhana\\Downloads\\Video\\game\\Screenshot_2022-07-19-21-10-54-816_com.thunkable.android.twmrsmy125.CLOCK.jpg to C:\\Users\\dhana\\Downloads\\destination\n",
      "Coping C:\\Users\\dhana\\Downloads\\Video\\game\\Screenshot_2022-07-19-21-20-03-247_com.thunkable.android.twmrsmy125.CLOCK.jpg to C:\\Users\\dhana\\Downloads\\destination\n",
      "Coping C:\\Users\\dhana\\Downloads\\Video\\game\\Screenshot_2022-07-19-21-27-17-024_com.thunkable.android.twmrsmy125.CLOCK.jpg to C:\\Users\\dhana\\Downloads\\destination\n",
      "Coping C:\\Users\\dhana\\Downloads\\Video\\game\\Screenshot_2022-07-19-21-33-00-327_com.app.flutterbecricapp.jpg to C:\\Users\\dhana\\Downloads\\destination\n",
      "Coping C:\\Users\\dhana\\Downloads\\Video\\game\\Screenshot_2022-07-19-21-53-00-729_com.app.flutterbecricapp.jpg to C:\\Users\\dhana\\Downloads\\destination\n",
      "Coping C:\\Users\\dhana\\Downloads\\Video\\game\\Screenshot_2022-07-19-22-13-00-358_com.app.flutterbecricapp.jpg to C:\\Users\\dhana\\Downloads\\destination\n",
      "Coping C:\\Users\\dhana\\Downloads\\Video\\game\\Screenshot_2022-07-19-22-24-58-694_com.app.flutterbecricapp.jpg to C:\\Users\\dhana\\Downloads\\destination\n",
      "Coping C:\\Users\\dhana\\Downloads\\Video\\game\\Screenshot_2022-07-19-22-54-01-853_com.app.flutterbecricapp.jpg to C:\\Users\\dhana\\Downloads\\destination\n",
      "Coping C:\\Users\\dhana\\Downloads\\Video\\game\\Screenshot_2022-07-19-22-58-55-850_com.app.flutterbecricapp.jpg to C:\\Users\\dhana\\Downloads\\destination\n",
      "Coping C:\\Users\\dhana\\Downloads\\Video\\game\\Screenshot_2022-07-19-22-59-00-345_com.app.flutterbecricapp.jpg to C:\\Users\\dhana\\Downloads\\destination\n",
      "Coping C:\\Users\\dhana\\Downloads\\Video\\game\\Screenshot_2022-07-19-23-18-40-986_com.app.flutterbecricapp.jpg to C:\\Users\\dhana\\Downloads\\destination\n",
      "Coping C:\\Users\\dhana\\Downloads\\Video\\game\\Screenshot_2022-07-19-23-45-53-237_com.thunkable.android.twmrsmy125.CLOCK.jpg to C:\\Users\\dhana\\Downloads\\destination\n",
      "Coping C:\\Users\\dhana\\Downloads\\Video\\game\\Screenshot_2022-07-19-23-52-13-984_com.app.flutterbecricapp.jpg to C:\\Users\\dhana\\Downloads\\destination\n",
      "Coping C:\\Users\\dhana\\Downloads\\Video\\game\\Screenshot_2022-07-20-00-02-01-223_com.app.flutterbecricapp.jpg to C:\\Users\\dhana\\Downloads\\destination\n",
      "Coping C:\\Users\\dhana\\Downloads\\Video\\game\\Screenshot_2022-07-20-00-27-01-237_com.app.flutterbecricapp.jpg to C:\\Users\\dhana\\Downloads\\destination\n",
      "Coping C:\\Users\\dhana\\Downloads\\Video\\game\\Screenshot_2022-07-20-00-52-01-261_com.app.flutterbecricapp.jpg to C:\\Users\\dhana\\Downloads\\destination\n",
      "Coping C:\\Users\\dhana\\Downloads\\Video\\game\\Screenshot_2022-07-20-01-17-01-578_com.app.flutterbecricapp.jpg to C:\\Users\\dhana\\Downloads\\destination\n",
      "Coping C:\\Users\\dhana\\Downloads\\Video\\game\\Screenshot_2022-07-20-01-42-01-272_com.app.flutterbecricapp.jpg to C:\\Users\\dhana\\Downloads\\destination\n",
      "Coping C:\\Users\\dhana\\Downloads\\Video\\game\\Screenshot_2022-07-20-02-07-01-302_com.app.flutterbecricapp.jpg to C:\\Users\\dhana\\Downloads\\destination\n",
      "Coping C:\\Users\\dhana\\Downloads\\Video\\game\\Screenshot_2022-07-20-02-32-01-303_com.app.flutterbecricapp.jpg to C:\\Users\\dhana\\Downloads\\destination\n",
      "Coping C:\\Users\\dhana\\Downloads\\Video\\game\\Screenshot_2022-07-20-02-57-01-320_com.app.flutterbecricapp.jpg to C:\\Users\\dhana\\Downloads\\destination\n",
      "Coping C:\\Users\\dhana\\Downloads\\Video\\game\\Screenshot_2022-07-20-03-22-01-339_com.app.flutterbecricapp.jpg to C:\\Users\\dhana\\Downloads\\destination\n",
      "Coping C:\\Users\\dhana\\Downloads\\Video\\game\\Screenshot_2022-07-20-03-47-01-337_com.app.flutterbecricapp.jpg to C:\\Users\\dhana\\Downloads\\destination\n",
      "Coping C:\\Users\\dhana\\Downloads\\Video\\game\\Screenshot_2022-07-20-04-12-00-363_com.app.flutterbecricapp.jpg to C:\\Users\\dhana\\Downloads\\destination\n",
      "Coping C:\\Users\\dhana\\Downloads\\Video\\game\\Screenshot_2022-07-20-04-37-00-658_com.app.flutterbecricapp.jpg to C:\\Users\\dhana\\Downloads\\destination\n",
      "Coping C:\\Users\\dhana\\Downloads\\Video\\game\\Screenshot_2022-07-20-05-02-00-349_com.app.flutterbecricapp.jpg to C:\\Users\\dhana\\Downloads\\destination\n",
      "Coping C:\\Users\\dhana\\Downloads\\Video\\game\\Screenshot_2022-07-20-05-27-00-360_com.app.flutterbecricapp.jpg to C:\\Users\\dhana\\Downloads\\destination\n",
      "Coping C:\\Users\\dhana\\Downloads\\Video\\game\\Screenshot_2022-07-20-05-52-00-658_com.thunkable.android.twmrsmy125.CLOCK.jpg to C:\\Users\\dhana\\Downloads\\destination\n",
      "Coping C:\\Users\\dhana\\Downloads\\Video\\game\\Screenshot_2022-07-20-06-17-00-386_com.thunkable.android.twmrsmy125.CLOCK.jpg to C:\\Users\\dhana\\Downloads\\destination\n",
      "Coping C:\\Users\\dhana\\Downloads\\Video\\game\\Screenshot_2022-07-20-06-42-00-655_com.thunkable.android.twmrsmy125.CLOCK.jpg to C:\\Users\\dhana\\Downloads\\destination\n",
      "Coping C:\\Users\\dhana\\Downloads\\Video\\game\\Screenshot_2022-07-20-07-07-00-433_com.thunkable.android.twmrsmy125.CLOCK.jpg to C:\\Users\\dhana\\Downloads\\destination\n",
      "Coping C:\\Users\\dhana\\Downloads\\Video\\game\\Screenshot_2022-07-20-07-32-00-398_com.thunkable.android.twmrsmy125.CLOCK.jpg to C:\\Users\\dhana\\Downloads\\destination\n",
      "Coping C:\\Users\\dhana\\Downloads\\Video\\game\\Screenshot_2022-07-20-07-57-00-422_com.thunkable.android.twmrsmy125.CLOCK.jpg to C:\\Users\\dhana\\Downloads\\destination\n",
      "Coping C:\\Users\\dhana\\Downloads\\Video\\game\\Screenshot_2022-07-20-08-22-00-449_com.thunkable.android.twmrsmy125.CLOCK.jpg to C:\\Users\\dhana\\Downloads\\destination\n",
      "Coping C:\\Users\\dhana\\Downloads\\Video\\game\\Screenshot_2022-07-20-08-47-00-682_com.thunkable.android.twmrsmy125.CLOCK.jpg to C:\\Users\\dhana\\Downloads\\destination\n",
      "Coping C:\\Users\\dhana\\Downloads\\Video\\game\\Screenshot_2022-07-20-09-03-44-916_com.thunkable.android.twmrsmy125.CLOCK.jpg to C:\\Users\\dhana\\Downloads\\destination\n",
      "Coping C:\\Users\\dhana\\Downloads\\Video\\game\\Screenshot_2022-07-20-09-43-00-757_com.app.flutterbecricapp.jpg to C:\\Users\\dhana\\Downloads\\destination\n",
      "Coping C:\\Users\\dhana\\Downloads\\Video\\game\\Screenshot_2022-07-20-10-00-22-759_com.app.flutterbecricapp.jpg to C:\\Users\\dhana\\Downloads\\destination\n",
      "Coping C:\\Users\\dhana\\Downloads\\Video\\game\\Screenshot_2022-07-20-10-28-02-057_com.app.flutterbecricapp.jpg to C:\\Users\\dhana\\Downloads\\destination\n",
      "Coping C:\\Users\\dhana\\Downloads\\Video\\game\\Screenshot_2022-07-20-10-55-14-831_com.app.flutterbecricapp.jpg to C:\\Users\\dhana\\Downloads\\destination\n",
      "Coping C:\\Users\\dhana\\Downloads\\Video\\game\\Screenshot_2022-07-20-11-24-05-494_com.app.flutterbecricapp.jpg to C:\\Users\\dhana\\Downloads\\destination\n",
      "Coping C:\\Users\\dhana\\Downloads\\Video\\game\\Screenshot_2022-07-20-11-49-54-265_com.app.flutterbecricapp.jpg to C:\\Users\\dhana\\Downloads\\destination\n",
      "Coping C:\\Users\\dhana\\Downloads\\Video\\game\\Screenshot_2022-07-20-12-18-02-247_com.app.flutterbecricapp.jpg to C:\\Users\\dhana\\Downloads\\destination\n",
      "Coping C:\\Users\\dhana\\Downloads\\Video\\game\\Screenshot_2022-07-20-12-46-15-693_com.app.flutterbecricapp.jpg to C:\\Users\\dhana\\Downloads\\destination\n",
      "Coping C:\\Users\\dhana\\Downloads\\Video\\game\\Screenshot_2022-07-20-13-12-39-939_com.app.flutterbecricapp.jpg to C:\\Users\\dhana\\Downloads\\destination\n",
      "Coping C:\\Users\\dhana\\Downloads\\Video\\game\\Screenshot_2022-07-20-13-39-30-440_com.app.flutterbecricapp.jpg to C:\\Users\\dhana\\Downloads\\destination\n",
      "Coping C:\\Users\\dhana\\Downloads\\Video\\game\\Screenshot_2022-07-20-14-08-15-365_com.app.flutterbecricapp.jpg to C:\\Users\\dhana\\Downloads\\destination\n",
      "Coping C:\\Users\\dhana\\Downloads\\Video\\game\\Screenshot_2022-07-20-14-33-27-456_com.app.flutterbecricapp.jpg to C:\\Users\\dhana\\Downloads\\destination\n",
      "Coping C:\\Users\\dhana\\Downloads\\Video\\game\\Screenshot_2022-07-20-15-28-21-093_com.app.flutterbecricapp.jpg to C:\\Users\\dhana\\Downloads\\destination\n",
      "Coping C:\\Users\\dhana\\Downloads\\Video\\game\\Screenshot_2022-07-20-15-55-18-114_com.thunkable.android.twmrsmy125.CLOCK.jpg to C:\\Users\\dhana\\Downloads\\destination\n",
      "Coping C:\\Users\\dhana\\Downloads\\Video\\game\\Screenshot_2022-07-20-16-13-53-617_com.app.flutterbecricapp.jpg to C:\\Users\\dhana\\Downloads\\destination\n",
      "Coping C:\\Users\\dhana\\Downloads\\Video\\game\\Screenshot_2022-07-20-16-46-01-121_com.app.flutterbecricapp.jpg to C:\\Users\\dhana\\Downloads\\destination\n",
      "Coping C:\\Users\\dhana\\Downloads\\Video\\game\\Screenshot_2022-07-20-17-18-27-945_com.app.flutterbecricapp.jpg to C:\\Users\\dhana\\Downloads\\destination\n",
      "Coping C:\\Users\\dhana\\Downloads\\Video\\game\\Screenshot_2022-07-20-17-44-24-133_com.app.flutterbecricapp.jpg to C:\\Users\\dhana\\Downloads\\destination\n",
      "Coping C:\\Users\\dhana\\Downloads\\Video\\game\\Screenshot_2022-07-20-18-11-24-016_com.app.flutterbecricapp.jpg to C:\\Users\\dhana\\Downloads\\destination\n",
      "Coping C:\\Users\\dhana\\Downloads\\Video\\game\\Screenshot_2022-07-20-18-38-36-152_com.app.flutterbecricapp.jpg to C:\\Users\\dhana\\Downloads\\destination\n",
      "Coping C:\\Users\\dhana\\Downloads\\Video\\game\\Screenshot_2022-07-20-19-05-24-981_com.app.flutterbecricapp.jpg to C:\\Users\\dhana\\Downloads\\destination\n",
      "Coping C:\\Users\\dhana\\Downloads\\Video\\game\\Screenshot_2022-07-20-19-59-23-065_com.app.flutterbecricapp.jpg to C:\\Users\\dhana\\Downloads\\destination\n",
      "Coping C:\\Users\\dhana\\Downloads\\Video\\game\\Screenshot_2022-07-20-20-24-48-479_com.thunkable.android.twmrsmy125.CLOCK.jpg to C:\\Users\\dhana\\Downloads\\destination\n",
      "Coping C:\\Users\\dhana\\Downloads\\Video\\game\\Screenshot_2022-07-20-20-52-54-330_com.app.flutterbecricapp.jpg to C:\\Users\\dhana\\Downloads\\destination\n",
      "Coping C:\\Users\\dhana\\Downloads\\Video\\game\\Screenshot_2022-07-20-21-20-21-915_com.app.flutterbecricapp.jpg to C:\\Users\\dhana\\Downloads\\destination\n",
      "Coping C:\\Users\\dhana\\Downloads\\Video\\game\\Screenshot_2022-07-20-21-48-16-014_com.app.flutterbecricapp.jpg to C:\\Users\\dhana\\Downloads\\destination\n",
      "Coping C:\\Users\\dhana\\Downloads\\Video\\game\\Screenshot_2022-07-20-22-14-39-298_com.app.flutterbecricapp.jpg to C:\\Users\\dhana\\Downloads\\destination\n",
      "Coping C:\\Users\\dhana\\Downloads\\Video\\game\\Screenshot_2022-07-20-22-41-00-265_com.app.flutterbecricapp.jpg to C:\\Users\\dhana\\Downloads\\destination\n",
      "Coping C:\\Users\\dhana\\Downloads\\Video\\game\\Screenshot_2022-07-20-23-08-01-783_com.app.flutterbecricapp.jpg to C:\\Users\\dhana\\Downloads\\destination\n",
      "Coping C:\\Users\\dhana\\Downloads\\Video\\game\\Screenshot_2022-07-20-23-15-57-004_com.app.flutterbecricapp.jpg to C:\\Users\\dhana\\Downloads\\destination\n",
      "Coping C:\\Users\\dhana\\Downloads\\Video\\game\\Screenshot_2022-07-20-23-34-48-316_com.app.flutterbecricapp.jpg to C:\\Users\\dhana\\Downloads\\destination\n",
      "Coping C:\\Users\\dhana\\Downloads\\Video\\game\\Screenshot_2022-07-20-23-53-08-133_com.app.flutterbecricapp.jpg to C:\\Users\\dhana\\Downloads\\destination\n",
      "Coping C:\\Users\\dhana\\Downloads\\Video\\game\\Screenshot_2022-07-21-00-02-06-959_com.thunkable.android.twmrsmy125.CLOCK.jpg to C:\\Users\\dhana\\Downloads\\destination\n",
      "Coping C:\\Users\\dhana\\Downloads\\Video\\game\\Screenshot_2022-07-21-00-27-33-525_com.app.flutterbecricapp.jpg to C:\\Users\\dhana\\Downloads\\destination\n"
     ]
    }
   ],
   "source": [
    "import os, shutil\n",
    "\n",
    "def search_and_copy(folder, extensions, destFolder):\n",
    "    folder = os.path.abspath(folder)\n",
    "    destFolder = os.path.abspath(destFolder)\n",
    "    print('searching --> {} for {} file'.format(folder,extensions))\n",
    "    for foldername, subfolders, filenames in os.walk(folder):\n",
    "        for filename in filenames:\n",
    "            name, extension = os.path.splitext(filename)\n",
    "            if extension in extensions:\n",
    "                fileAbsPath = foldername + os.path.sep + filename\n",
    "                print('Coping', fileAbsPath, 'to', destFolder)\n",
    "                shutil.copy(fileAbsPath, destFolder)\n",
    "\n",
    "extensions = ['.pdf','.jpg']\n",
    "folder = ''\n",
    "destFolder = 'destination'\n",
    "search_and_copy(folder, extensions, destFolder)"
   ]
  },
  {
   "cell_type": "code",
   "execution_count": null,
   "id": "30b942e8",
   "metadata": {},
   "outputs": [],
   "source": []
  },
  {
   "cell_type": "code",
   "execution_count": null,
   "id": "bb56c1e1",
   "metadata": {},
   "outputs": [],
   "source": []
  }
 ],
 "metadata": {
  "kernelspec": {
   "display_name": "Python 3 (ipykernel)",
   "language": "python",
   "name": "python3"
  },
  "language_info": {
   "codemirror_mode": {
    "name": "ipython",
    "version": 3
   },
   "file_extension": ".py",
   "mimetype": "text/x-python",
   "name": "python",
   "nbconvert_exporter": "python",
   "pygments_lexer": "ipython3",
   "version": "3.9.12"
  }
 },
 "nbformat": 4,
 "nbformat_minor": 5
}
