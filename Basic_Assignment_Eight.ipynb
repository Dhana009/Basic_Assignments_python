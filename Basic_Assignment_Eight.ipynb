{
 "cells": [
  {
   "cell_type": "markdown",
   "id": "9d27cb8d",
   "metadata": {},
   "source": [
    "# Basic_Assignment_Eight"
   ]
  },
  {
   "cell_type": "markdown",
   "id": "310b9918",
   "metadata": {},
   "source": [
    "## 1. Is the Python Standard Library included with PyInputPlus?\n",
    "it is not a part of python standard library\n"
   ]
  },
  {
   "cell_type": "markdown",
   "id": "45c89b0c",
   "metadata": {},
   "source": [
    "## 2. Why is PyInputPlus commonly imported with import pyinputplus as pypi?\n",
    "this piece of code help us save time from calling each time we want to use pyinputplus where pypi is allias\n",
    "\n"
   ]
  },
  {
   "cell_type": "markdown",
   "id": "05598931",
   "metadata": {},
   "source": [
    "## 3. How do you distinguish between inputInt() and inputFloat()?\n",
    "inputInt() is for integers i.e number without decimal\n",
    "\n",
    "where as inputFloat() belongs to float class i.e with decimal.\n"
   ]
  },
  {
   "cell_type": "markdown",
   "id": "976ac9e8",
   "metadata": {},
   "source": [
    "## 4. Using PyInputPlus, how do you ensure that the user enters a whole number between 0 and 99?\n",
    "\n"
   ]
  },
  {
   "cell_type": "code",
   "execution_count": 7,
   "id": "84c9752b",
   "metadata": {},
   "outputs": [
    {
     "name": "stdout",
     "output_type": "stream",
     "text": [
      ">899\n",
      "Number must be less than 99.\n",
      ">9526\n",
      "Number must be less than 99.\n",
      ">89\n"
     ]
    }
   ],
   "source": [
    "import pyinputplus as pyip\n",
    "a = pyip.inputNum('>', min=0, lessThan=99)"
   ]
  },
  {
   "cell_type": "markdown",
   "id": "7ae05cab",
   "metadata": {},
   "source": [
    "## 5. What is transferred to the keyword arguments allowRegexes and blockRegexes?\n",
    " we can use allowRegexes and blockRegexes keyword arguments to take list of regular expression strings to determine\n",
    " \n",
    " what the pyinputplus function will reject or accept valid input.\n"
   ]
  },
  {
   "cell_type": "code",
   "execution_count": 11,
   "id": "442e4358",
   "metadata": {
    "scrolled": true
   },
   "outputs": [
    {
     "name": "stdout",
     "output_type": "stream",
     "text": [
      "babu\n"
     ]
    }
   ],
   "source": [
    "import pyinputplus as pyip\n",
    "a = pyip.inputStr(allowRegexes=[r'dj', 'babu'],blockRegexes=[r'reddy'])                                                                           "
   ]
  },
  {
   "cell_type": "markdown",
   "id": "91694335",
   "metadata": {},
   "source": [
    "## 6. If a blank input is entered three times, what does inputStr(limit=3) do?\n",
    "it will give this error: as below\n",
    "\n",
    "    pyinputplus.RetryLimitException"
   ]
  },
  {
   "cell_type": "markdown",
   "id": "5dd8c410",
   "metadata": {},
   "source": [
    "## 7. If blank input is entered three times, what does inputStr(limit=3, default='hello') do?\n",
    "Instead of raising RetryLimitException, the inputNum() function simply returns the string 'hello'."
   ]
  }
 ],
 "metadata": {
  "kernelspec": {
   "display_name": "Python 3 (ipykernel)",
   "language": "python",
   "name": "python3"
  },
  "language_info": {
   "codemirror_mode": {
    "name": "ipython",
    "version": 3
   },
   "file_extension": ".py",
   "mimetype": "text/x-python",
   "name": "python",
   "nbconvert_exporter": "python",
   "pygments_lexer": "ipython3",
   "version": "3.9.12"
  }
 },
 "nbformat": 4,
 "nbformat_minor": 5
}
