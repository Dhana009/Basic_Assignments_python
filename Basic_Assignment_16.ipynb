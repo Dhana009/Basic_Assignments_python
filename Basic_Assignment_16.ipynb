{
 "cells": [
  {
   "cell_type": "markdown",
   "id": "2a9406bf",
   "metadata": {},
   "source": [
    "# Basic_Assignment_16"
   ]
  },
  {
   "cell_type": "markdown",
   "id": "2d63912a",
   "metadata": {},
   "source": [
    "### 1. Create a list called years_list, starting with the year of your birth, and each year thereafter until the year of your fifth birthday. For example, if you were born in 1980. the list would be years_list = [1980, 1981, 1982, 1983, 1984, 1985]."
   ]
  },
  {
   "cell_type": "code",
   "execution_count": 1,
   "id": "b3bd5840",
   "metadata": {
    "scrolled": true
   },
   "outputs": [
    {
     "name": "stdout",
     "output_type": "stream",
     "text": [
      "Enter year of birth1999\n",
      "[1999, 2000, 2001, 2002, 2003, 2004]\n"
     ]
    }
   ],
   "source": [
    "yob = int(input(\"Enter year of birth\"))\n",
    "years_list = []\n",
    "if type(yob)==int:\n",
    "    for i in range(yob,yob+6):\n",
    "        years_list.append(i)\n",
    "print(years_list)"
   ]
  },
  {
   "cell_type": "markdown",
   "id": "5a4c640a",
   "metadata": {},
   "source": [
    "### 2. In which year in years_list was your third birthday? Remember, you were 0 years of age for your first year."
   ]
  },
  {
   "cell_type": "code",
   "execution_count": 2,
   "id": "7b66c0dc",
   "metadata": {},
   "outputs": [
    {
     "data": {
      "text/plain": [
       "2002"
      ]
     },
     "execution_count": 2,
     "metadata": {},
     "output_type": "execute_result"
    }
   ],
   "source": [
    "   years_list[3]"
   ]
  },
  {
   "cell_type": "markdown",
   "id": "8cc81487",
   "metadata": {},
   "source": [
    "### 3.In the years list, which year were you the oldest?"
   ]
  },
  {
   "cell_type": "code",
   "execution_count": 3,
   "id": "e25fc9c7",
   "metadata": {},
   "outputs": [
    {
     "data": {
      "text/plain": [
       "2004"
      ]
     },
     "execution_count": 3,
     "metadata": {},
     "output_type": "execute_result"
    }
   ],
   "source": [
    "years_list[-1]"
   ]
  },
  {
   "cell_type": "markdown",
   "id": "46439f38",
   "metadata": {},
   "source": [
    "### 4. Make a list called things with these three strings as elements: \"mozzarella\", \"cinderella\", \"salmonella\""
   ]
  },
  {
   "cell_type": "code",
   "execution_count": 4,
   "id": "8d88405a",
   "metadata": {},
   "outputs": [
    {
     "data": {
      "text/plain": [
       "['mozzarella', 'cinderella', 'salmonella']"
      ]
     },
     "execution_count": 4,
     "metadata": {},
     "output_type": "execute_result"
    }
   ],
   "source": [
    "things = [\"mozzarella\", \"cinderella\", \"salmonella\"]\n",
    "things"
   ]
  },
  {
   "cell_type": "markdown",
   "id": "cb4abec8",
   "metadata": {},
   "source": [
    "### 5. Capitalize the element in things that refers to a person and then print the list. Did it change the element in the list?"
   ]
  },
  {
   "cell_type": "code",
   "execution_count": 5,
   "id": "24dc2bc3",
   "metadata": {},
   "outputs": [
    {
     "data": {
      "text/plain": [
       "'Cinderella'"
      ]
     },
     "execution_count": 5,
     "metadata": {},
     "output_type": "execute_result"
    }
   ],
   "source": [
    "things[1].capitalize()\n"
   ]
  },
  {
   "cell_type": "code",
   "execution_count": 8,
   "id": "55b575e7",
   "metadata": {},
   "outputs": [
    {
     "data": {
      "text/plain": [
       "['mozzarella', 'cinderella', 'salmonella']"
      ]
     },
     "execution_count": 8,
     "metadata": {},
     "output_type": "execute_result"
    }
   ],
   "source": [
    "things"
   ]
  },
  {
   "cell_type": "markdown",
   "id": "a22867b6",
   "metadata": {},
   "source": [
    "### 6. Make a surprise list with the elements \"Groucho,\" \"Chico,\" and \"Harpo.\"\n",
    "\n"
   ]
  },
  {
   "cell_type": "code",
   "execution_count": 9,
   "id": "99a1b612",
   "metadata": {},
   "outputs": [
    {
     "data": {
      "text/plain": [
       "['Groucho', 'Chico', 'Harpo']"
      ]
     },
     "execution_count": 9,
     "metadata": {},
     "output_type": "execute_result"
    }
   ],
   "source": [
    "surprise_list = [\"Groucho\" ,\"Chico\" ,\"Harpo\"]\n",
    "surprise_list"
   ]
  },
  {
   "cell_type": "markdown",
   "id": "bdd7ca56",
   "metadata": {},
   "source": [
    "### 7. Lowercase the last element of the surprise list, reverse it, and then capitalize it.\n"
   ]
  },
  {
   "cell_type": "code",
   "execution_count": 10,
   "id": "83363590",
   "metadata": {},
   "outputs": [
    {
     "data": {
      "text/plain": [
       "['Groucho', 'Chico', 'Oprah']"
      ]
     },
     "execution_count": 10,
     "metadata": {},
     "output_type": "execute_result"
    }
   ],
   "source": [
    "surprise_1 = []\n",
    "for i in surprise_list:\n",
    "    if i!=surprise_list[-1]:\n",
    "        surprise_1.append(i)\n",
    "    else:\n",
    "        b = i.lower()\n",
    "        c = b[::-1]\n",
    "        d = c.capitalize()\n",
    "            \n",
    "        surprise_1.append(d)\n",
    "surprise_list=surprise_1\n",
    "surprise_list\n"
   ]
  },
  {
   "cell_type": "markdown",
   "id": "e39b323a",
   "metadata": {},
   "source": [
    "### 8. Make an English-to-French dictionary called e2f and print it. Here are your starter words: dog is chien, cat is chat, and walrus is morse.\n"
   ]
  },
  {
   "cell_type": "code",
   "execution_count": 11,
   "id": "872a3768",
   "metadata": {},
   "outputs": [],
   "source": [
    "def e2f(english_word):\n",
    "    english = {\"dog\":\"chein\",\"cat\":\"chat\",\"walrus\":\"morse\"}\n",
    "    for key,value in english.items():\n",
    "        if key==english_word:\n",
    "            print(english.get(english_word))"
   ]
  },
  {
   "cell_type": "markdown",
   "id": "114fb332",
   "metadata": {},
   "source": [
    "### 9. Write the French word for walrus in your three-word dictionary e2f.\n"
   ]
  },
  {
   "cell_type": "code",
   "execution_count": 12,
   "id": "a4a26297",
   "metadata": {},
   "outputs": [
    {
     "name": "stdout",
     "output_type": "stream",
     "text": [
      "morse\n"
     ]
    }
   ],
   "source": [
    "e2f(\"walrus\")"
   ]
  },
  {
   "cell_type": "markdown",
   "id": "de53a5c3",
   "metadata": {},
   "source": [
    "### 10. Make a French-to-English dictionary called f2e from e2f. Use the items method."
   ]
  },
  {
   "cell_type": "code",
   "execution_count": 13,
   "id": "98d1bcf9",
   "metadata": {},
   "outputs": [],
   "source": [
    "def f2e(french_word):\n",
    "    french = {\"chien\":\"dog\",\"chat\":\"cat\",\"morse\":\"walrus\"}\n",
    "    for key,value in french.items():\n",
    "        if key==french_word:\n",
    "            print(french.get(french_word))\n",
    "            "
   ]
  },
  {
   "cell_type": "markdown",
   "id": "b3157a62",
   "metadata": {},
   "source": [
    "### 11. Print the English version of the French word chien using f2e.\n",
    "\n"
   ]
  },
  {
   "cell_type": "code",
   "execution_count": 14,
   "id": "85d76dbb",
   "metadata": {},
   "outputs": [
    {
     "name": "stdout",
     "output_type": "stream",
     "text": [
      "dog\n"
     ]
    }
   ],
   "source": [
    "f2e(\"chien\")"
   ]
  },
  {
   "cell_type": "markdown",
   "id": "54764855",
   "metadata": {},
   "source": [
    "### 12. Make and print a set of English words from the keys in e2f.\n"
   ]
  },
  {
   "cell_type": "code",
   "execution_count": 15,
   "id": "814e3280",
   "metadata": {},
   "outputs": [
    {
     "data": {
      "text/plain": [
       "{'cat', 'dog', 'walrus'}"
      ]
     },
     "execution_count": 15,
     "metadata": {},
     "output_type": "execute_result"
    }
   ],
   "source": [
    "def e2f():\n",
    "    \n",
    "    english = {\"cat\":\"chat\",\"walrus\":\"morse\",\"dog\":\"chien\"}\n",
    "    english_set = set()\n",
    "    for i in english.items():\n",
    "        english_set.add(i[0])\n",
    "    return english_set\n",
    "e2f()"
   ]
  },
  {
   "cell_type": "markdown",
   "id": "019fd0e0",
   "metadata": {},
   "source": [
    "### 13. Make a multilevel dictionary called life. Use these strings for the topmost keys: 'animals', 'plants', and 'other'. Make the 'animals' key refer to another dictionary with the keys 'cats', 'octopi', and 'emus'. Make the 'cats' key refer to a list of strings with the values 'Henri', 'Grumpy', and 'Lucy'. Make all the other keys refer to empty dictionaries"
   ]
  },
  {
   "cell_type": "code",
   "execution_count": 31,
   "id": "9098e939",
   "metadata": {},
   "outputs": [
    {
     "data": {
      "text/plain": [
       "{'animals': {'cats': ['Henri', 'Grumpy', 'Lucy'], 'octopi': {}, 'emus': {}},\n",
       " 'plants': {},\n",
       " 'other': {}}"
      ]
     },
     "execution_count": 31,
     "metadata": {},
     "output_type": "execute_result"
    }
   ],
   "source": [
    "life = { 'animals' : { 'cats' : [ 'Henri', 'Grumpy', 'Lucy' ], 'octopi' : {}, 'emus' : {}  }, 'plants' : {}, 'other' : {} }\n",
    "life"
   ]
  },
  {
   "cell_type": "markdown",
   "id": "05ecafe7",
   "metadata": {},
   "source": [
    "## 14. Print the top-level keys of life."
   ]
  },
  {
   "cell_type": "code",
   "execution_count": 32,
   "id": "1d087335",
   "metadata": {},
   "outputs": [
    {
     "name": "stdout",
     "output_type": "stream",
     "text": [
      "dict_keys(['animals', 'plants', 'other'])\n"
     ]
    }
   ],
   "source": [
    "print(life.keys())"
   ]
  },
  {
   "cell_type": "markdown",
   "id": "2d1c4adc",
   "metadata": {},
   "source": [
    "### 15. Print the keys for life['animals']."
   ]
  },
  {
   "cell_type": "code",
   "execution_count": 33,
   "id": "df55b900",
   "metadata": {},
   "outputs": [
    {
     "data": {
      "text/plain": [
       "{'cats': ['Henri', 'Grumpy', 'Lucy'], 'octopi': {}, 'emus': {}}"
      ]
     },
     "execution_count": 33,
     "metadata": {},
     "output_type": "execute_result"
    }
   ],
   "source": [
    "life['animals']"
   ]
  },
  {
   "cell_type": "markdown",
   "id": "09fcaf12",
   "metadata": {},
   "source": [
    "### 16. Print the values for life['animals']['cats']\n"
   ]
  },
  {
   "cell_type": "code",
   "execution_count": 34,
   "id": "05b09e0a",
   "metadata": {},
   "outputs": [
    {
     "data": {
      "text/plain": [
       "['Henri', 'Grumpy', 'Lucy']"
      ]
     },
     "execution_count": 34,
     "metadata": {},
     "output_type": "execute_result"
    }
   ],
   "source": [
    "life['animals']['cats']"
   ]
  },
  {
   "cell_type": "code",
   "execution_count": null,
   "id": "0cf6d2a2",
   "metadata": {},
   "outputs": [],
   "source": []
  },
  {
   "cell_type": "code",
   "execution_count": null,
   "id": "b8c7a2bd",
   "metadata": {},
   "outputs": [],
   "source": []
  },
  {
   "cell_type": "code",
   "execution_count": null,
   "id": "dc08a6b3",
   "metadata": {},
   "outputs": [],
   "source": []
  }
 ],
 "metadata": {
  "kernelspec": {
   "display_name": "Python 3 (ipykernel)",
   "language": "python",
   "name": "python3"
  },
  "language_info": {
   "codemirror_mode": {
    "name": "ipython",
    "version": 3
   },
   "file_extension": ".py",
   "mimetype": "text/x-python",
   "name": "python",
   "nbconvert_exporter": "python",
   "pygments_lexer": "ipython3",
   "version": "3.9.12"
  }
 },
 "nbformat": 4,
 "nbformat_minor": 5
}
