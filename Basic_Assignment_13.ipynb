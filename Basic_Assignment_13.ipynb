{
 "cells": [
  {
   "cell_type": "markdown",
   "id": "a7d84f93",
   "metadata": {},
   "source": [
    "# Basic_Assignment_13"
   ]
  },
  {
   "cell_type": "markdown",
   "id": "35ad78f5",
   "metadata": {},
   "source": [
    "### 1. What advantages do Excel spreadsheets have over CSV spreadsheets?"
   ]
  },
  {
   "cell_type": "markdown",
   "id": "6053048d",
   "metadata": {},
   "source": [
    "We can do a lot of various operations on data in excel but not in csv.\n",
    "    Excel can store more complex data. No distinction between data type incsv"
   ]
  },
  {
   "cell_type": "markdown",
   "id": "01e76af0",
   "metadata": {},
   "source": [
    "### 2.What do you pass to csv.reader() and csv.writer() to create reader and writer objects?"
   ]
  },
  {
   "cell_type": "code",
   "execution_count": 1,
   "id": "0d67e4bf",
   "metadata": {},
   "outputs": [],
   "source": [
    "import csv"
   ]
  },
  {
   "cell_type": "markdown",
   "id": "ea5572a9",
   "metadata": {},
   "source": [
    " In csv.reader() we pass file and dialect.\n",
    "In csv.writer() we pass fileobj and dialect."
   ]
  },
  {
   "cell_type": "markdown",
   "id": "ab48bd35",
   "metadata": {},
   "source": [
    "### 3. What modes do File objects for reader and writer objects need to be opened in?"
   ]
  },
  {
   "cell_type": "markdown",
   "id": "21ca8393",
   "metadata": {},
   "source": [
    "   in reader object we open file in read mode 'r'\n",
    "   \n",
    "   in writer object we open file in write mode 'w'."
   ]
  },
  {
   "cell_type": "markdown",
   "id": "3cb03707",
   "metadata": {},
   "source": [
    "### 4. What method takes a list argument and writes it to a CSV file?"
   ]
  },
  {
   "cell_type": "markdown",
   "id": "bb6e3167",
   "metadata": {},
   "source": [
    " use writerow() method for list argument in csv file."
   ]
  },
  {
   "cell_type": "markdown",
   "id": "4fb7333a",
   "metadata": {},
   "source": [
    "### 5. What do the keyword arguments delimiter and line terminator do?"
   ]
  },
  {
   "cell_type": "markdown",
   "id": "589afdfa",
   "metadata": {},
   "source": [
    "   firstname, lastname, age\n",
    "   \n",
    "   dj, babu, 24"
   ]
  },
  {
   "cell_type": "markdown",
   "id": "902f84ed",
   "metadata": {},
   "source": [
    " here ',' is delimiter we can use any character as per our needs.\n",
    "line terminator comes at end of line by default it is newline and can be changed accourding to requirement."
   ]
  },
  {
   "cell_type": "markdown",
   "id": "368002ae",
   "metadata": {},
   "source": [
    "### 6. What function takes a string of JSON data and returns a Python data structure?"
   ]
  },
  {
   "cell_type": "markdown",
   "id": "1a913739",
   "metadata": {},
   "source": [
    "dumps() function convert json data into python data structure"
   ]
  },
  {
   "cell_type": "markdown",
   "id": "a5a74234",
   "metadata": {},
   "source": [
    "### 7. What function takes a Python data structure and returns a string of JSON data?"
   ]
  },
  {
   "cell_type": "markdown",
   "id": "75695ed4",
   "metadata": {},
   "source": [
    " loads() function converts python data structure and returns a string of json data."
   ]
  },
  {
   "cell_type": "code",
   "execution_count": null,
   "id": "b2c51db5",
   "metadata": {},
   "outputs": [],
   "source": []
  },
  {
   "cell_type": "code",
   "execution_count": null,
   "id": "01f57db1",
   "metadata": {},
   "outputs": [],
   "source": []
  }
 ],
 "metadata": {
  "kernelspec": {
   "display_name": "Python 3 (ipykernel)",
   "language": "python",
   "name": "python3"
  },
  "language_info": {
   "codemirror_mode": {
    "name": "ipython",
    "version": 3
   },
   "file_extension": ".py",
   "mimetype": "text/x-python",
   "name": "python",
   "nbconvert_exporter": "python",
   "pygments_lexer": "ipython3",
   "version": "3.9.12"
  }
 },
 "nbformat": 4,
 "nbformat_minor": 5
}
