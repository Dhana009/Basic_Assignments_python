{
 "cells": [
  {
   "cell_type": "markdown",
   "id": "b09139dd",
   "metadata": {},
   "source": [
    "# Basic_Assignment_seven"
   ]
  },
  {
   "cell_type": "markdown",
   "id": "fc83d69f",
   "metadata": {},
   "source": [
    "## 1. What is the name of the feature responsible for generating Regex objects?\n",
    "re module is used for generation of Regex objects {re.compitle()}"
   ]
  },
  {
   "cell_type": "markdown",
   "id": "8b4644ca",
   "metadata": {},
   "source": [
    "## 2. Why do raw strings often appear in Regex objects?\n",
    "to prevent backslash from escaping."
   ]
  },
  {
   "cell_type": "markdown",
   "id": "7c712e38",
   "metadata": {},
   "source": [
    "## 3. What is the return value of the search() method?\n",
    "if it finds the pattern then it returns matchable object or else none."
   ]
  },
  {
   "cell_type": "markdown",
   "id": "53ff814c",
   "metadata": {},
   "source": [
    "## 4. From a Match item, how do you get the actual strings that match the pattern?\n",
    "group()\n",
    "method returns matched pattern"
   ]
  },
  {
   "cell_type": "markdown",
   "id": "0916500c",
   "metadata": {},
   "source": [
    "## 5. In the regex which created from the r'(\\d\\d\\d)-(\\d\\d\\d-\\d\\d\\d\\d)', what does group zero cover? Group 2? Group 1?"
   ]
  },
  {
   "cell_type": "markdown",
   "id": "3af9c467",
   "metadata": {},
   "source": [
    "group 0 covers whole part\n",
    "\n",
    "group 1 covers first part\n",
    "\n",
    "group 2 covers second part\n"
   ]
  },
  {
   "cell_type": "markdown",
   "id": "036d6b6f",
   "metadata": {},
   "source": [
    "## 6. In standard expression syntax, parentheses and intervals have distinct meanings. How can you tell a regex that you want it to fit real parentheses and periods?\n",
    "\n",
    "        \\., \\(, and \\)"
   ]
  },
  {
   "cell_type": "markdown",
   "id": "6eee7e37",
   "metadata": {},
   "source": [
    "## 7. The findall() method returns a string list or a list of string tuples. What causes it to return one of the two options?\n",
    "when we enclose our pattern inside \"()\" it will return tuple\n",
    "when we enclose our pattern without using \"()\" it will return tuple"
   ]
  },
  {
   "cell_type": "markdown",
   "id": "36687c49",
   "metadata": {},
   "source": [
    "## 8. In standard expressions, what does the | character mean?\n",
    "in standard expression \" | \" means  Alternation\n"
   ]
  },
  {
   "cell_type": "markdown",
   "id": "8900e89b",
   "metadata": {},
   "source": [
    "## 9. In regular expressions, what does the ? character stand for?\n",
    "it stands for match zero or one of the preceding group\n"
   ]
  },
  {
   "cell_type": "markdown",
   "id": "9ec7664c",
   "metadata": {},
   "source": [
    "## 10.In regular expressions, what is the difference between the + and * characters?"
   ]
  },
  {
   "cell_type": "markdown",
   "id": "fe284b5d",
   "metadata": {},
   "source": [
    "#### + means one or more\n",
    "#### * means zero or more"
   ]
  },
  {
   "cell_type": "markdown",
   "id": "a2be796e",
   "metadata": {},
   "source": [
    "## 11. What is the difference between {4} and {4,5} in regular expression?\n",
    "{4} Matches the expression to its left 4 times, and not less.\n",
    "\n",
    "{4,5) Matches the expression to its left 4 to 5 times, and not less."
   ]
  },
  {
   "cell_type": "markdown",
   "id": "92a01bbc",
   "metadata": {},
   "source": [
    "## 12. What do you mean by the \\d, \\w, and \\s shorthand character classes signify in regular expressions?\n",
    "\\d Matches digits, which means 0-9.\n",
    "\n",
    "\\w Matches alphanumeric characters, which means a-z, A-Z, and 0-9. It also matches the underscore, _.\n",
    "\n",
    "\\s Matches whitespace characters, which include the \\t, \\n, \\r, and space characters.\n"
   ]
  },
  {
   "cell_type": "markdown",
   "id": "8ac64e91",
   "metadata": {},
   "source": [
    "## 13. What do means by \\D, \\W, and \\S shorthand character classes signify in regular expressions?\n",
    "\\D Matches any non-digits. \n",
    "\n",
    "\\W Matches any non-word character.\n",
    "\n",
    "\\S Matches non-whitespace characters."
   ]
  },
  {
   "cell_type": "markdown",
   "id": "dcef89eb",
   "metadata": {},
   "source": [
    "## 14. What is the difference between . ? and . ?\n",
    " .*? adds ?, a quantifier that matches the preceding element (the \".*\" here) 0 or 1 times.\n",
    " \n",
    " .* adds *, a quantifier that matches the preceding element (the \".\" here) 0 or more times."
   ]
  },
  {
   "cell_type": "markdown",
   "id": "1254b890",
   "metadata": {},
   "source": [
    "## 15. What is the syntax for matching both numbers and lowercase letters with a character class?"
   ]
  },
  {
   "cell_type": "code",
   "execution_count": 13,
   "id": "861a0725",
   "metadata": {},
   "outputs": [],
   "source": [
    "import re\n",
    "def match(text):\n",
    "    patterns = '^[a-z0-9]*$'\n",
    "    if re.search(patterns,text):\n",
    "        return text\n",
    "    else:\n",
    "        return\"not matched\""
   ]
  },
  {
   "cell_type": "code",
   "execution_count": 14,
   "id": "9afa3080",
   "metadata": {},
   "outputs": [
    {
     "data": {
      "text/plain": [
       "'dj'"
      ]
     },
     "execution_count": 14,
     "metadata": {},
     "output_type": "execute_result"
    }
   ],
   "source": [
    "match(\"dj\")"
   ]
  },
  {
   "cell_type": "markdown",
   "id": "bbab7ad5",
   "metadata": {},
   "source": [
    "## 16. What is the procedure for making a normal expression in regax case insensitive?\n",
    "use re.IGNORECASE to search, match, or sub\n"
   ]
  },
  {
   "cell_type": "markdown",
   "id": "5cb211f9",
   "metadata": {},
   "source": [
    "## 17. What does the . character normally match? What does it match if re.DOTALL is passed as 2nd argument in re.compile()?\n",
    "dot character matches everything in input except newline character\n",
    "\n",
    "By passing re. DOTALL as the second argument to re. compile() , you can make the dot character match all characters,       including the newline character.\n"
   ]
  },
  {
   "cell_type": "markdown",
   "id": "5bd7a88d",
   "metadata": {},
   "source": [
    "## 18. If numReg = re.compile(r'\\d+'), what will numRegex.sub('X', '11 drummers, 10 pipers, five rings, 4 hen') return?\n",
    "'X drummers,\n",
    "X pipers,\n",
    "five rings,\n",
    "X hens'\n"
   ]
  },
  {
   "cell_type": "markdown",
   "id": "2923cdbe",
   "metadata": {},
   "source": [
    "## 19. What does passing re.VERBOSE as the 2nd argument to re.compile() allow to do?\n",
    "it will allow to add whitespace and comments to string passed to re.compile().\n"
   ]
  },
  {
   "cell_type": "markdown",
   "id": "aee20209",
   "metadata": {},
   "source": [
    "## 20. How would you write a regex that match a number with comma for every three digits? It must match the given following:\n",
    "'42'\n",
    "\n",
    "'1,234'\n",
    "\n",
    "'6,368,745'\n",
    "\n",
    "but not the following:\n",
    "\n",
    "'12,34,567' (which has only two digits between the commas)\n",
    "\n",
    "'1234' (which lacks commas)"
   ]
  },
  {
   "cell_type": "code",
   "execution_count": 17,
   "id": "89796349",
   "metadata": {},
   "outputs": [
    {
     "data": {
      "text/plain": [
       "re.compile(r'^\\d{1,3}(,\\d{3})*$', re.UNICODE)"
      ]
     },
     "execution_count": 17,
     "metadata": {},
     "output_type": "execute_result"
    }
   ],
   "source": [
    "re.compile(r'^\\d{1,3}(,\\d{3})*$')"
   ]
  },
  {
   "cell_type": "markdown",
   "id": "7e2e3b27",
   "metadata": {},
   "source": [
    "## 21. How would you write a regex that matches the full name of someone whose last name is Watanabe? You can assume that the first name that comes before it will always be one word that begins with a capital letter. The regex must match the following:\n",
    "'Haruto Watanabe'\n",
    "\n",
    "'Alice Watanabe'\n",
    "\n",
    "'RoboCop Watanabe'\n",
    "\n",
    "but not the following:\n",
    "\n",
    "'haruto Watanabe' (where the first name is not capitalized)\n",
    "\n",
    "'Mr. Watanabe' (where the preceding word has a nonletter character)\n",
    "\n",
    "'Watanabe' (which has no first name)\n",
    "\n",
    "'Haruto watanabe' (where Watanabe is not capitalized)\n",
    "\n",
    "\n"
   ]
  },
  {
   "cell_type": "code",
   "execution_count": 18,
   "id": "33ad82e8",
   "metadata": {},
   "outputs": [
    {
     "data": {
      "text/plain": [
       "re.compile(r'[A-Z][a-z]*\\sNakamoto', re.UNICODE)"
      ]
     },
     "execution_count": 18,
     "metadata": {},
     "output_type": "execute_result"
    }
   ],
   "source": [
    "re.compile(r'[A-Z][a-z]*\\sNakamoto')"
   ]
  },
  {
   "cell_type": "markdown",
   "id": "9b704b24",
   "metadata": {},
   "source": [
    "## 22. How would you write a regex that matches a sentence where the first word is either Alice, Bob,or Carol; the second word is either eats, pets, or throws; the third word is apples, cats, or baseballs; and the sentence ends with a period? This regex should be case-insensitive. It must match the following:\n",
    "'Alice eats apples.'\n",
    "\n",
    "'Bob pets cats.'\n",
    "\n",
    "'Carol throws baseballs.'\n",
    "\n",
    "'Alice throws Apples.'\n",
    "\n",
    "'BOB EATS CATS.'\n",
    "\n",
    "but not the following:\n",
    "'RoboCop eats apples.'\n",
    "\n",
    "'ALICE THROWS FOOTBALLS.'\n",
    "\n",
    "'Carol eats 7 cats.'\n"
   ]
  },
  {
   "cell_type": "code",
   "execution_count": 19,
   "id": "798aef29",
   "metadata": {},
   "outputs": [
    {
     "data": {
      "text/plain": [
       "re.compile(r'(Alice|Bob|Carol)\\s(eats|pets|throws)\\s(apples|cats|baseballs)\\.',\n",
       "           re.IGNORECASE|re.UNICODE)"
      ]
     },
     "execution_count": 19,
     "metadata": {},
     "output_type": "execute_result"
    }
   ],
   "source": [
    "re.compile(r'(Alice|Bob|Carol)\\s(eats|pets|throws)\\s(apples|cats|baseballs)\\.', re.IGNORECASE)"
   ]
  },
  {
   "cell_type": "code",
   "execution_count": null,
   "id": "103cf6f1",
   "metadata": {},
   "outputs": [],
   "source": []
  },
  {
   "cell_type": "code",
   "execution_count": null,
   "id": "4815d085",
   "metadata": {},
   "outputs": [],
   "source": []
  },
  {
   "cell_type": "code",
   "execution_count": null,
   "id": "142d5f9d",
   "metadata": {},
   "outputs": [],
   "source": []
  }
 ],
 "metadata": {
  "kernelspec": {
   "display_name": "Python 3 (ipykernel)",
   "language": "python",
   "name": "python3"
  },
  "language_info": {
   "codemirror_mode": {
    "name": "ipython",
    "version": 3
   },
   "file_extension": ".py",
   "mimetype": "text/x-python",
   "name": "python",
   "nbconvert_exporter": "python",
   "pygments_lexer": "ipython3",
   "version": "3.9.12"
  }
 },
 "nbformat": 4,
 "nbformat_minor": 5
}
