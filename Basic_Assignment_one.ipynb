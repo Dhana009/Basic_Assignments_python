{
 "cells": [
  {
   "cell_type": "markdown",
   "id": "c0ee48a9",
   "metadata": {},
   "source": [
    "# Assignment one Basic"
   ]
  },
  {
   "cell_type": "markdown",
   "id": "50b26564",
   "metadata": {},
   "source": [
    "### 1. In the below elements which of them are values or an expression? eg:- values can be integer or string and expressions will be mathematical operators.\n"
   ]
  },
  {
   "cell_type": "markdown",
   "id": "d0a0ea77",
   "metadata": {},
   "source": [
    "solution:-\n",
    "\n",
    "     *  - expression\n",
    "\n",
    "     \"hello\"- value\n",
    "\n",
    "      -87.8 - value\n",
    "\n",
    "      - - expression\n",
    "\n",
    "      / - expression\n",
    "\n",
    "      + - expression\n",
    "\n",
    "       6 - value"
   ]
  },
  {
   "cell_type": "markdown",
   "id": "ac45529d",
   "metadata": {},
   "source": [
    "### 2. What is the difference between string and variable?\n",
    "\n",
    "solution:- The basic differences between string and a variable is that the string is an in bulit data types which can accept multiple data types in one with the help of single or double quotes and the container which can hold that data type is a variable\n",
    "\n",
    "a = 'apple'\n",
    "\n",
    "a - variable ; \n",
    "'apple' - string"
   ]
  },
  {
   "cell_type": "markdown",
   "id": "5ae328d0",
   "metadata": {},
   "source": [
    "### 3.Describe three different data forms?\n",
    "\n",
    "solution:-  integer,string,complex,float\n"
   ]
  },
  {
   "cell_type": "markdown",
   "id": "9aa78efb",
   "metadata": {},
   "source": [
    "### 4. What is an expression made up of? What do all expressions do?\n",
    "\n",
    "solution:-\n",
    "expression is madeup of values,containers,and mathematical operators\n",
    "    "
   ]
  },
  {
   "cell_type": "markdown",
   "id": "23103c3f",
   "metadata": {},
   "source": [
    "### 5. This assignment statements, like spam = 10. What is the difference between an expression and a statement?\n",
    "\n",
    "solution:- Expressions are values,containers,and mathematical operators.\n",
    "whereas, statement is like a command which python executes like list\n"
   ]
  },
  {
   "cell_type": "markdown",
   "id": "62b00d96",
   "metadata": {},
   "source": [
    "### 6. After running the following code, what does the variable bacon contain?\n",
    "bacon = 22\n",
    "bacon + 1\n",
    "\n",
    "solution:- 23"
   ]
  },
  {
   "cell_type": "markdown",
   "id": "e5ea73f3",
   "metadata": {},
   "source": [
    "### 7. What should the values of the following two terms be?\n",
    "'spam' + 'spamspam'\n",
    "'spam'* 3\n",
    "\n",
    "solution:- same\n"
   ]
  },
  {
   "cell_type": "markdown",
   "id": "43baad19",
   "metadata": {},
   "source": [
    "### 8. Why is eggs a valid variable name while 100 is invalid?\n",
    "\n",
    "solution:- Because we cant start a variable name with a integer."
   ]
  },
  {
   "cell_type": "markdown",
   "id": "b4c7cbf3",
   "metadata": {},
   "source": [
    "### 9. What three functions can be used to get the integer, floating-point number, or string version of a value?\n",
    "\n",
    "solution:- string() ; float() ; int()"
   ]
  },
  {
   "cell_type": "markdown",
   "id": "6388169c",
   "metadata": {},
   "source": [
    "### 10. Why does this expression cause an error? How can you fix it?\n",
    "'I have eaten'+99+'burritos'\n",
    "\n",
    "solution:- int and string can't be concatenated."
   ]
  },
  {
   "cell_type": "code",
   "execution_count": null,
   "id": "7434045f",
   "metadata": {},
   "outputs": [],
   "source": []
  }
 ],
 "metadata": {
  "kernelspec": {
   "display_name": "Python 3 (ipykernel)",
   "language": "python",
   "name": "python3"
  },
  "language_info": {
   "codemirror_mode": {
    "name": "ipython",
    "version": 3
   },
   "file_extension": ".py",
   "mimetype": "text/x-python",
   "name": "python",
   "nbconvert_exporter": "python",
   "pygments_lexer": "ipython3",
   "version": "3.9.12"
  }
 },
 "nbformat": 4,
 "nbformat_minor": 5
}
