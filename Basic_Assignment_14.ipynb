{
 "cells": [
  {
   "cell_type": "markdown",
   "id": "029328cc",
   "metadata": {},
   "source": [
    "# Basic_Assignment_14"
   ]
  },
  {
   "cell_type": "markdown",
   "id": "0da1c274",
   "metadata": {},
   "source": [
    "### 1. What does RGBA stand for?\n",
    " RGBA value is a group of numbers that specify the amount of green, blue, red, and alpha in a color.\n"
   ]
  },
  {
   "cell_type": "markdown",
   "id": "3fdafaf6",
   "metadata": {},
   "source": [
    "### 2. From the Pillow module, how do you get the RGBA value of any images?\n",
    "ImageColor.getcolor() gives rgba value of any image.\n"
   ]
  },
  {
   "cell_type": "markdown",
   "id": "456cda32",
   "metadata": {},
   "source": [
    "## 3. What is a box tuple, and how does it work?\n",
    "Box tuple is container of tuple of four integers where x-coordinate is represented by left edge.\n"
   ]
  },
  {
   "cell_type": "markdown",
   "id": "5d4f2549",
   "metadata": {},
   "source": [
    "### 4. Use your image and load in notebook then, How can you find out the width and height of an Image object?\n"
   ]
  },
  {
   "cell_type": "code",
   "execution_count": 3,
   "id": "7b90c913",
   "metadata": {},
   "outputs": [],
   "source": [
    "from PIL import Image"
   ]
  },
  {
   "cell_type": "code",
   "execution_count": null,
   "id": "ef5408de",
   "metadata": {},
   "outputs": [],
   "source": [
    "pic = PIL.Image.open('trial.jpg')\n",
    "width = pic.width\n",
    "height = pic.height\n",
    "\n",
    "print(\"width and height of image is {}, {} respectively\".format(width,height))"
   ]
  },
  {
   "cell_type": "markdown",
   "id": "e7b02eb8",
   "metadata": {},
   "source": [
    "### 5. What method would you call to get Image object for a 100×100 image, excluding the lower-left quarter of it?\n",
    "imageObj.crop((0, 50, 50, 50))"
   ]
  },
  {
   "cell_type": "markdown",
   "id": "fc8d3d6b",
   "metadata": {},
   "source": [
    "### 6. After making changes to an Image object, how could you save it as an image file?\n",
    "imageObj.save('new_name.jpg')"
   ]
  },
  {
   "cell_type": "markdown",
   "id": "f1d0c170",
   "metadata": {},
   "source": [
    "### 7. What module contains Pillow’s shape-drawing code?\n",
    "ImageDraw module"
   ]
  },
  {
   "cell_type": "markdown",
   "id": "18aeaba7",
   "metadata": {},
   "source": [
    "### 8. Image objects do not have drawing methods. What kind of object does? How do you get this kind of object?\n",
    "contains shape drawing methods like line(), point(), rectangle()\n",
    "we can call they by using ImageDraw.Draw() function."
   ]
  },
  {
   "cell_type": "code",
   "execution_count": null,
   "id": "f37c5853",
   "metadata": {},
   "outputs": [],
   "source": []
  }
 ],
 "metadata": {
  "kernelspec": {
   "display_name": "Python 3 (ipykernel)",
   "language": "python",
   "name": "python3"
  },
  "language_info": {
   "codemirror_mode": {
    "name": "ipython",
    "version": 3
   },
   "file_extension": ".py",
   "mimetype": "text/x-python",
   "name": "python",
   "nbconvert_exporter": "python",
   "pygments_lexer": "ipython3",
   "version": "3.9.12"
  }
 },
 "nbformat": 4,
 "nbformat_minor": 5
}
